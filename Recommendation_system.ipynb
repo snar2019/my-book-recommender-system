{
 "cells": [
  {
   "cell_type": "markdown",
   "id": "b6697456",
   "metadata": {},
   "source": [
    "#### We are building a Recommendation system to recommend the books\n",
    "##### There are 4 types of Recommendation system: 1. Popularity based 2. Content based 3. Collaborative filtering based 4.Hybrid recommender system"
   ]
  },
  {
   "cell_type": "code",
   "execution_count": 1,
   "id": "2ed9602a",
   "metadata": {},
   "outputs": [],
   "source": [
    "import numpy as np\n",
    "import pandas as pd\n",
    "import matplotlib.pyplot as plt\n",
    "%matplotlib inline\n",
    "import pickle"
   ]
  },
  {
   "cell_type": "markdown",
   "id": "c6a7d1c0",
   "metadata": {},
   "source": [
    "\n",
    "###### Data upload"
   ]
  },
  {
   "cell_type": "code",
   "execution_count": 2,
   "id": "db24ab4c",
   "metadata": {},
   "outputs": [],
   "source": [
    "user = pd.read_csv(\"Users.csv\")"
   ]
  },
  {
   "cell_type": "code",
   "execution_count": 3,
   "id": "4fbb427f",
   "metadata": {},
   "outputs": [],
   "source": [
    "rating = pd.read_csv(\"Ratings.csv\")"
   ]
  },
  {
   "cell_type": "code",
   "execution_count": 4,
   "id": "5a7ee80d",
   "metadata": {},
   "outputs": [],
   "source": [
    "books = pd.read_csv(\"Books.csv\", low_memory=False)"
   ]
  },
  {
   "cell_type": "markdown",
   "id": "821703e8",
   "metadata": {},
   "source": [
    "###### Dataset exploration"
   ]
  },
  {
   "cell_type": "code",
   "execution_count": 5,
   "id": "062aa4fa",
   "metadata": {},
   "outputs": [
    {
     "data": {
      "text/html": [
       "<div>\n",
       "<style scoped>\n",
       "    .dataframe tbody tr th:only-of-type {\n",
       "        vertical-align: middle;\n",
       "    }\n",
       "\n",
       "    .dataframe tbody tr th {\n",
       "        vertical-align: top;\n",
       "    }\n",
       "\n",
       "    .dataframe thead th {\n",
       "        text-align: right;\n",
       "    }\n",
       "</style>\n",
       "<table border=\"1\" class=\"dataframe\">\n",
       "  <thead>\n",
       "    <tr style=\"text-align: right;\">\n",
       "      <th></th>\n",
       "      <th>User-ID</th>\n",
       "      <th>Location</th>\n",
       "      <th>Age</th>\n",
       "    </tr>\n",
       "  </thead>\n",
       "  <tbody>\n",
       "    <tr>\n",
       "      <th>0</th>\n",
       "      <td>1</td>\n",
       "      <td>nyc, new york, usa</td>\n",
       "      <td>NaN</td>\n",
       "    </tr>\n",
       "    <tr>\n",
       "      <th>1</th>\n",
       "      <td>2</td>\n",
       "      <td>stockton, california, usa</td>\n",
       "      <td>18.0</td>\n",
       "    </tr>\n",
       "    <tr>\n",
       "      <th>2</th>\n",
       "      <td>3</td>\n",
       "      <td>moscow, yukon territory, russia</td>\n",
       "      <td>NaN</td>\n",
       "    </tr>\n",
       "    <tr>\n",
       "      <th>3</th>\n",
       "      <td>4</td>\n",
       "      <td>porto, v.n.gaia, portugal</td>\n",
       "      <td>17.0</td>\n",
       "    </tr>\n",
       "    <tr>\n",
       "      <th>4</th>\n",
       "      <td>5</td>\n",
       "      <td>farnborough, hants, united kingdom</td>\n",
       "      <td>NaN</td>\n",
       "    </tr>\n",
       "  </tbody>\n",
       "</table>\n",
       "</div>"
      ],
      "text/plain": [
       "   User-ID                            Location   Age\n",
       "0        1                  nyc, new york, usa   NaN\n",
       "1        2           stockton, california, usa  18.0\n",
       "2        3     moscow, yukon territory, russia   NaN\n",
       "3        4           porto, v.n.gaia, portugal  17.0\n",
       "4        5  farnborough, hants, united kingdom   NaN"
      ]
     },
     "execution_count": 5,
     "metadata": {},
     "output_type": "execute_result"
    }
   ],
   "source": [
    "#checking rows of the user Dataset\n",
    "user.head(5)"
   ]
  },
  {
   "cell_type": "code",
   "execution_count": 6,
   "id": "b52ff93e",
   "metadata": {},
   "outputs": [
    {
     "data": {
      "text/html": [
       "<div>\n",
       "<style scoped>\n",
       "    .dataframe tbody tr th:only-of-type {\n",
       "        vertical-align: middle;\n",
       "    }\n",
       "\n",
       "    .dataframe tbody tr th {\n",
       "        vertical-align: top;\n",
       "    }\n",
       "\n",
       "    .dataframe thead th {\n",
       "        text-align: right;\n",
       "    }\n",
       "</style>\n",
       "<table border=\"1\" class=\"dataframe\">\n",
       "  <thead>\n",
       "    <tr style=\"text-align: right;\">\n",
       "      <th></th>\n",
       "      <th>User-ID</th>\n",
       "      <th>ISBN</th>\n",
       "      <th>Book-Rating</th>\n",
       "    </tr>\n",
       "  </thead>\n",
       "  <tbody>\n",
       "    <tr>\n",
       "      <th>1149777</th>\n",
       "      <td>276709</td>\n",
       "      <td>0515107662</td>\n",
       "      <td>10</td>\n",
       "    </tr>\n",
       "    <tr>\n",
       "      <th>1149778</th>\n",
       "      <td>276721</td>\n",
       "      <td>0590442449</td>\n",
       "      <td>10</td>\n",
       "    </tr>\n",
       "    <tr>\n",
       "      <th>1149775</th>\n",
       "      <td>276704</td>\n",
       "      <td>1563526298</td>\n",
       "      <td>9</td>\n",
       "    </tr>\n",
       "    <tr>\n",
       "      <th>1149779</th>\n",
       "      <td>276723</td>\n",
       "      <td>05162443314</td>\n",
       "      <td>8</td>\n",
       "    </tr>\n",
       "    <tr>\n",
       "      <th>1149776</th>\n",
       "      <td>276706</td>\n",
       "      <td>0679447156</td>\n",
       "      <td>0</td>\n",
       "    </tr>\n",
       "  </tbody>\n",
       "</table>\n",
       "</div>"
      ],
      "text/plain": [
       "         User-ID         ISBN  Book-Rating\n",
       "1149777   276709   0515107662           10\n",
       "1149778   276721   0590442449           10\n",
       "1149775   276704   1563526298            9\n",
       "1149779   276723  05162443314            8\n",
       "1149776   276706   0679447156            0"
      ]
     },
     "execution_count": 6,
     "metadata": {},
     "output_type": "execute_result"
    }
   ],
   "source": [
    "##checking rows of the rating Dataset\n",
    "#rating.head(5)\n",
    "rating.tail().sort_values(by=['Book-Rating'],ascending=False)"
   ]
  },
  {
   "cell_type": "code",
   "execution_count": 7,
   "id": "78e8e44d",
   "metadata": {},
   "outputs": [
    {
     "data": {
      "text/html": [
       "<div>\n",
       "<style scoped>\n",
       "    .dataframe tbody tr th:only-of-type {\n",
       "        vertical-align: middle;\n",
       "    }\n",
       "\n",
       "    .dataframe tbody tr th {\n",
       "        vertical-align: top;\n",
       "    }\n",
       "\n",
       "    .dataframe thead th {\n",
       "        text-align: right;\n",
       "    }\n",
       "</style>\n",
       "<table border=\"1\" class=\"dataframe\">\n",
       "  <thead>\n",
       "    <tr style=\"text-align: right;\">\n",
       "      <th></th>\n",
       "      <th>ISBN</th>\n",
       "      <th>Book-Title</th>\n",
       "      <th>Book-Author</th>\n",
       "      <th>Year-Of-Publication</th>\n",
       "      <th>Publisher</th>\n",
       "      <th>Image-URL-S</th>\n",
       "      <th>Image-URL-M</th>\n",
       "      <th>Image-URL-L</th>\n",
       "    </tr>\n",
       "  </thead>\n",
       "  <tbody>\n",
       "    <tr>\n",
       "      <th>0</th>\n",
       "      <td>0195153448</td>\n",
       "      <td>Classical Mythology</td>\n",
       "      <td>Mark P. O. Morford</td>\n",
       "      <td>2002</td>\n",
       "      <td>Oxford University Press</td>\n",
       "      <td>http://images.amazon.com/images/P/0195153448.0...</td>\n",
       "      <td>http://images.amazon.com/images/P/0195153448.0...</td>\n",
       "      <td>http://images.amazon.com/images/P/0195153448.0...</td>\n",
       "    </tr>\n",
       "    <tr>\n",
       "      <th>1</th>\n",
       "      <td>0002005018</td>\n",
       "      <td>Clara Callan</td>\n",
       "      <td>Richard Bruce Wright</td>\n",
       "      <td>2001</td>\n",
       "      <td>HarperFlamingo Canada</td>\n",
       "      <td>http://images.amazon.com/images/P/0002005018.0...</td>\n",
       "      <td>http://images.amazon.com/images/P/0002005018.0...</td>\n",
       "      <td>http://images.amazon.com/images/P/0002005018.0...</td>\n",
       "    </tr>\n",
       "    <tr>\n",
       "      <th>2</th>\n",
       "      <td>0060973129</td>\n",
       "      <td>Decision in Normandy</td>\n",
       "      <td>Carlo D'Este</td>\n",
       "      <td>1991</td>\n",
       "      <td>HarperPerennial</td>\n",
       "      <td>http://images.amazon.com/images/P/0060973129.0...</td>\n",
       "      <td>http://images.amazon.com/images/P/0060973129.0...</td>\n",
       "      <td>http://images.amazon.com/images/P/0060973129.0...</td>\n",
       "    </tr>\n",
       "    <tr>\n",
       "      <th>3</th>\n",
       "      <td>0374157065</td>\n",
       "      <td>Flu: The Story of the Great Influenza Pandemic...</td>\n",
       "      <td>Gina Bari Kolata</td>\n",
       "      <td>1999</td>\n",
       "      <td>Farrar Straus Giroux</td>\n",
       "      <td>http://images.amazon.com/images/P/0374157065.0...</td>\n",
       "      <td>http://images.amazon.com/images/P/0374157065.0...</td>\n",
       "      <td>http://images.amazon.com/images/P/0374157065.0...</td>\n",
       "    </tr>\n",
       "    <tr>\n",
       "      <th>4</th>\n",
       "      <td>0393045218</td>\n",
       "      <td>The Mummies of Urumchi</td>\n",
       "      <td>E. J. W. Barber</td>\n",
       "      <td>1999</td>\n",
       "      <td>W. W. Norton &amp;amp; Company</td>\n",
       "      <td>http://images.amazon.com/images/P/0393045218.0...</td>\n",
       "      <td>http://images.amazon.com/images/P/0393045218.0...</td>\n",
       "      <td>http://images.amazon.com/images/P/0393045218.0...</td>\n",
       "    </tr>\n",
       "  </tbody>\n",
       "</table>\n",
       "</div>"
      ],
      "text/plain": [
       "         ISBN                                         Book-Title  \\\n",
       "0  0195153448                                Classical Mythology   \n",
       "1  0002005018                                       Clara Callan   \n",
       "2  0060973129                               Decision in Normandy   \n",
       "3  0374157065  Flu: The Story of the Great Influenza Pandemic...   \n",
       "4  0393045218                             The Mummies of Urumchi   \n",
       "\n",
       "            Book-Author Year-Of-Publication                   Publisher  \\\n",
       "0    Mark P. O. Morford                2002     Oxford University Press   \n",
       "1  Richard Bruce Wright                2001       HarperFlamingo Canada   \n",
       "2          Carlo D'Este                1991             HarperPerennial   \n",
       "3      Gina Bari Kolata                1999        Farrar Straus Giroux   \n",
       "4       E. J. W. Barber                1999  W. W. Norton &amp; Company   \n",
       "\n",
       "                                         Image-URL-S  \\\n",
       "0  http://images.amazon.com/images/P/0195153448.0...   \n",
       "1  http://images.amazon.com/images/P/0002005018.0...   \n",
       "2  http://images.amazon.com/images/P/0060973129.0...   \n",
       "3  http://images.amazon.com/images/P/0374157065.0...   \n",
       "4  http://images.amazon.com/images/P/0393045218.0...   \n",
       "\n",
       "                                         Image-URL-M  \\\n",
       "0  http://images.amazon.com/images/P/0195153448.0...   \n",
       "1  http://images.amazon.com/images/P/0002005018.0...   \n",
       "2  http://images.amazon.com/images/P/0060973129.0...   \n",
       "3  http://images.amazon.com/images/P/0374157065.0...   \n",
       "4  http://images.amazon.com/images/P/0393045218.0...   \n",
       "\n",
       "                                         Image-URL-L  \n",
       "0  http://images.amazon.com/images/P/0195153448.0...  \n",
       "1  http://images.amazon.com/images/P/0002005018.0...  \n",
       "2  http://images.amazon.com/images/P/0060973129.0...  \n",
       "3  http://images.amazon.com/images/P/0374157065.0...  \n",
       "4  http://images.amazon.com/images/P/0393045218.0...  "
      ]
     },
     "execution_count": 7,
     "metadata": {},
     "output_type": "execute_result"
    }
   ],
   "source": [
    "#checking rows of the books Dataset\n",
    "books.head(5)"
   ]
  },
  {
   "cell_type": "code",
   "execution_count": 8,
   "id": "da586a24",
   "metadata": {},
   "outputs": [
    {
     "name": "stdout",
     "output_type": "stream",
     "text": [
      "(278858, 3)\n",
      "(1149780, 3)\n",
      "(271360, 8)\n"
     ]
    }
   ],
   "source": [
    "# checking dimention of the datasets\n",
    "print(user.shape)\n",
    "print(rating.shape)\n",
    "print(books.shape)"
   ]
  },
  {
   "cell_type": "markdown",
   "id": "6aa05d1c",
   "metadata": {},
   "source": [
    "#### EDA"
   ]
  },
  {
   "cell_type": "code",
   "execution_count": 9,
   "id": "a8662e19",
   "metadata": {},
   "outputs": [
    {
     "name": "stdout",
     "output_type": "stream",
     "text": [
      "<class 'pandas.core.frame.DataFrame'>\n",
      "RangeIndex: 271360 entries, 0 to 271359\n",
      "Data columns (total 8 columns):\n",
      " #   Column               Non-Null Count   Dtype \n",
      "---  ------               --------------   ----- \n",
      " 0   ISBN                 271360 non-null  object\n",
      " 1   Book-Title           271360 non-null  object\n",
      " 2   Book-Author          271359 non-null  object\n",
      " 3   Year-Of-Publication  271360 non-null  object\n",
      " 4   Publisher            271358 non-null  object\n",
      " 5   Image-URL-S          271360 non-null  object\n",
      " 6   Image-URL-M          271360 non-null  object\n",
      " 7   Image-URL-L          271357 non-null  object\n",
      "dtypes: object(8)\n",
      "memory usage: 16.6+ MB\n"
     ]
    }
   ],
   "source": [
    "# checking the data type of the columns\n",
    "books.info()"
   ]
  },
  {
   "cell_type": "code",
   "execution_count": 10,
   "id": "e7e38916",
   "metadata": {},
   "outputs": [
    {
     "name": "stdout",
     "output_type": "stream",
     "text": [
      "<class 'pandas.core.frame.DataFrame'>\n",
      "RangeIndex: 278858 entries, 0 to 278857\n",
      "Data columns (total 3 columns):\n",
      " #   Column    Non-Null Count   Dtype  \n",
      "---  ------    --------------   -----  \n",
      " 0   User-ID   278858 non-null  int64  \n",
      " 1   Location  278858 non-null  object \n",
      " 2   Age       168096 non-null  float64\n",
      "dtypes: float64(1), int64(1), object(1)\n",
      "memory usage: 6.4+ MB\n"
     ]
    }
   ],
   "source": [
    "user.info()"
   ]
  },
  {
   "cell_type": "code",
   "execution_count": 11,
   "id": "8a6defe3",
   "metadata": {},
   "outputs": [
    {
     "name": "stdout",
     "output_type": "stream",
     "text": [
      "<class 'pandas.core.frame.DataFrame'>\n",
      "RangeIndex: 1149780 entries, 0 to 1149779\n",
      "Data columns (total 3 columns):\n",
      " #   Column       Non-Null Count    Dtype \n",
      "---  ------       --------------    ----- \n",
      " 0   User-ID      1149780 non-null  int64 \n",
      " 1   ISBN         1149780 non-null  object\n",
      " 2   Book-Rating  1149780 non-null  int64 \n",
      "dtypes: int64(2), object(1)\n",
      "memory usage: 26.3+ MB\n"
     ]
    }
   ],
   "source": [
    "rating.info()"
   ]
  },
  {
   "cell_type": "code",
   "execution_count": 12,
   "id": "69ae880d",
   "metadata": {},
   "outputs": [],
   "source": [
    "# Lets rename few columns in the dataset\n",
    "rating = rating.rename(columns={\"Book-Rating\":\"rating\",\"User-ID\":\"user_id\"})"
   ]
  },
  {
   "cell_type": "code",
   "execution_count": 13,
   "id": "b65109c2",
   "metadata": {},
   "outputs": [],
   "source": [
    "books = books.rename(columns={\"Book-Title\":\"title\",\"Book-Author\":\"author\", \"Year-Of-Publication\": \"year_of_pub\",\"Publisher\":\"publisher\"})"
   ]
  },
  {
   "cell_type": "code",
   "execution_count": 14,
   "id": "1a8922f6",
   "metadata": {},
   "outputs": [],
   "source": [
    "user = user.rename(columns={\"User-ID\":\"user_id\"})"
   ]
  },
  {
   "cell_type": "code",
   "execution_count": 15,
   "id": "b136e302",
   "metadata": {},
   "outputs": [
    {
     "name": "stdout",
     "output_type": "stream",
     "text": [
      "Index(['user_id', 'ISBN', 'rating'], dtype='object')\n",
      "Index(['ISBN', 'title', 'author', 'year_of_pub', 'publisher', 'Image-URL-S',\n",
      "       'Image-URL-M', 'Image-URL-L'],\n",
      "      dtype='object')\n",
      "Index(['user_id', 'Location', 'Age'], dtype='object')\n"
     ]
    }
   ],
   "source": [
    "#checking the coluns name\n",
    "print(rating.columns)\n",
    "print(books.columns)\n",
    "print(user.columns)"
   ]
  },
  {
   "cell_type": "code",
   "execution_count": 16,
   "id": "82956abf",
   "metadata": {},
   "outputs": [
    {
     "data": {
      "text/plain": [
       "user_id          0\n",
       "Location         0\n",
       "Age         110762\n",
       "dtype: int64"
      ]
     },
     "execution_count": 16,
     "metadata": {},
     "output_type": "execute_result"
    }
   ],
   "source": [
    "#checking the Null/Na values\n",
    "user.isna().sum()"
   ]
  },
  {
   "cell_type": "code",
   "execution_count": 17,
   "id": "7345ad09",
   "metadata": {},
   "outputs": [
    {
     "data": {
      "text/plain": [
       "user_id    0\n",
       "ISBN       0\n",
       "rating     0\n",
       "dtype: int64"
      ]
     },
     "execution_count": 17,
     "metadata": {},
     "output_type": "execute_result"
    }
   ],
   "source": [
    "rating.isna().sum()"
   ]
  },
  {
   "cell_type": "code",
   "execution_count": 18,
   "id": "4cf1efe6",
   "metadata": {},
   "outputs": [
    {
     "data": {
      "text/plain": [
       "ISBN           0\n",
       "title          0\n",
       "author         1\n",
       "year_of_pub    0\n",
       "publisher      2\n",
       "Image-URL-S    0\n",
       "Image-URL-M    0\n",
       "Image-URL-L    3\n",
       "dtype: int64"
      ]
     },
     "execution_count": 18,
     "metadata": {},
     "output_type": "execute_result"
    }
   ],
   "source": [
    "books.isna().sum()"
   ]
  },
  {
   "cell_type": "code",
   "execution_count": 19,
   "id": "a1532cf6",
   "metadata": {},
   "outputs": [
    {
     "name": "stdout",
     "output_type": "stream",
     "text": [
      "0\n",
      "0\n",
      "0\n"
     ]
    }
   ],
   "source": [
    "#Lets check the duplicates in the datset\n",
    "print(user.duplicated().sum())\n",
    "print(books.duplicated().sum())\n",
    "print(rating.duplicated().sum())"
   ]
  },
  {
   "cell_type": "code",
   "execution_count": 20,
   "id": "50f077a4",
   "metadata": {},
   "outputs": [
    {
     "data": {
      "text/html": [
       "<div>\n",
       "<style scoped>\n",
       "    .dataframe tbody tr th:only-of-type {\n",
       "        vertical-align: middle;\n",
       "    }\n",
       "\n",
       "    .dataframe tbody tr th {\n",
       "        vertical-align: top;\n",
       "    }\n",
       "\n",
       "    .dataframe thead th {\n",
       "        text-align: right;\n",
       "    }\n",
       "</style>\n",
       "<table border=\"1\" class=\"dataframe\">\n",
       "  <thead>\n",
       "    <tr style=\"text-align: right;\">\n",
       "      <th></th>\n",
       "      <th>ISBN</th>\n",
       "      <th>title</th>\n",
       "      <th>author</th>\n",
       "      <th>year_of_pub</th>\n",
       "      <th>publisher</th>\n",
       "      <th>Image-URL-S</th>\n",
       "      <th>Image-URL-M</th>\n",
       "      <th>Image-URL-L</th>\n",
       "    </tr>\n",
       "  </thead>\n",
       "  <tbody>\n",
       "    <tr>\n",
       "      <th>128890</th>\n",
       "      <td>193169656X</td>\n",
       "      <td>Tyrant Moon</td>\n",
       "      <td>Elaine Corvidae</td>\n",
       "      <td>2002</td>\n",
       "      <td>NaN</td>\n",
       "      <td>http://images.amazon.com/images/P/193169656X.0...</td>\n",
       "      <td>http://images.amazon.com/images/P/193169656X.0...</td>\n",
       "      <td>http://images.amazon.com/images/P/193169656X.0...</td>\n",
       "    </tr>\n",
       "    <tr>\n",
       "      <th>129037</th>\n",
       "      <td>1931696993</td>\n",
       "      <td>Finders Keepers</td>\n",
       "      <td>Linnea Sinclair</td>\n",
       "      <td>2001</td>\n",
       "      <td>NaN</td>\n",
       "      <td>http://images.amazon.com/images/P/1931696993.0...</td>\n",
       "      <td>http://images.amazon.com/images/P/1931696993.0...</td>\n",
       "      <td>http://images.amazon.com/images/P/1931696993.0...</td>\n",
       "    </tr>\n",
       "    <tr>\n",
       "      <th>187689</th>\n",
       "      <td>9627982032</td>\n",
       "      <td>The Credit Suisse Guide to Managing Your Perso...</td>\n",
       "      <td>NaN</td>\n",
       "      <td>1995</td>\n",
       "      <td>Edinburgh Financial Publishing</td>\n",
       "      <td>http://images.amazon.com/images/P/9627982032.0...</td>\n",
       "      <td>http://images.amazon.com/images/P/9627982032.0...</td>\n",
       "      <td>http://images.amazon.com/images/P/9627982032.0...</td>\n",
       "    </tr>\n",
       "    <tr>\n",
       "      <th>209538</th>\n",
       "      <td>078946697X</td>\n",
       "      <td>DK Readers: Creating the X-Men, How It All Beg...</td>\n",
       "      <td>2000</td>\n",
       "      <td>DK Publishing Inc</td>\n",
       "      <td>http://images.amazon.com/images/P/078946697X.0...</td>\n",
       "      <td>http://images.amazon.com/images/P/078946697X.0...</td>\n",
       "      <td>http://images.amazon.com/images/P/078946697X.0...</td>\n",
       "      <td>NaN</td>\n",
       "    </tr>\n",
       "    <tr>\n",
       "      <th>220731</th>\n",
       "      <td>2070426769</td>\n",
       "      <td>Peuple du ciel, suivi de 'Les Bergers\\\";Jean-M...</td>\n",
       "      <td>2003</td>\n",
       "      <td>Gallimard</td>\n",
       "      <td>http://images.amazon.com/images/P/2070426769.0...</td>\n",
       "      <td>http://images.amazon.com/images/P/2070426769.0...</td>\n",
       "      <td>http://images.amazon.com/images/P/2070426769.0...</td>\n",
       "      <td>NaN</td>\n",
       "    </tr>\n",
       "    <tr>\n",
       "      <th>221678</th>\n",
       "      <td>0789466953</td>\n",
       "      <td>DK Readers: Creating the X-Men, How Comic Book...</td>\n",
       "      <td>2000</td>\n",
       "      <td>DK Publishing Inc</td>\n",
       "      <td>http://images.amazon.com/images/P/0789466953.0...</td>\n",
       "      <td>http://images.amazon.com/images/P/0789466953.0...</td>\n",
       "      <td>http://images.amazon.com/images/P/0789466953.0...</td>\n",
       "      <td>NaN</td>\n",
       "    </tr>\n",
       "  </tbody>\n",
       "</table>\n",
       "</div>"
      ],
      "text/plain": [
       "              ISBN                                              title  \\\n",
       "128890  193169656X                                        Tyrant Moon   \n",
       "129037  1931696993                                    Finders Keepers   \n",
       "187689  9627982032  The Credit Suisse Guide to Managing Your Perso...   \n",
       "209538  078946697X  DK Readers: Creating the X-Men, How It All Beg...   \n",
       "220731  2070426769  Peuple du ciel, suivi de 'Les Bergers\\\";Jean-M...   \n",
       "221678  0789466953  DK Readers: Creating the X-Men, How Comic Book...   \n",
       "\n",
       "                 author        year_of_pub  \\\n",
       "128890  Elaine Corvidae               2002   \n",
       "129037  Linnea Sinclair               2001   \n",
       "187689              NaN               1995   \n",
       "209538             2000  DK Publishing Inc   \n",
       "220731             2003          Gallimard   \n",
       "221678             2000  DK Publishing Inc   \n",
       "\n",
       "                                                publisher  \\\n",
       "128890                                                NaN   \n",
       "129037                                                NaN   \n",
       "187689                     Edinburgh Financial Publishing   \n",
       "209538  http://images.amazon.com/images/P/078946697X.0...   \n",
       "220731  http://images.amazon.com/images/P/2070426769.0...   \n",
       "221678  http://images.amazon.com/images/P/0789466953.0...   \n",
       "\n",
       "                                              Image-URL-S  \\\n",
       "128890  http://images.amazon.com/images/P/193169656X.0...   \n",
       "129037  http://images.amazon.com/images/P/1931696993.0...   \n",
       "187689  http://images.amazon.com/images/P/9627982032.0...   \n",
       "209538  http://images.amazon.com/images/P/078946697X.0...   \n",
       "220731  http://images.amazon.com/images/P/2070426769.0...   \n",
       "221678  http://images.amazon.com/images/P/0789466953.0...   \n",
       "\n",
       "                                              Image-URL-M  \\\n",
       "128890  http://images.amazon.com/images/P/193169656X.0...   \n",
       "129037  http://images.amazon.com/images/P/1931696993.0...   \n",
       "187689  http://images.amazon.com/images/P/9627982032.0...   \n",
       "209538  http://images.amazon.com/images/P/078946697X.0...   \n",
       "220731  http://images.amazon.com/images/P/2070426769.0...   \n",
       "221678  http://images.amazon.com/images/P/0789466953.0...   \n",
       "\n",
       "                                              Image-URL-L  \n",
       "128890  http://images.amazon.com/images/P/193169656X.0...  \n",
       "129037  http://images.amazon.com/images/P/1931696993.0...  \n",
       "187689  http://images.amazon.com/images/P/9627982032.0...  \n",
       "209538                                                NaN  \n",
       "220731                                                NaN  \n",
       "221678                                                NaN  "
      ]
     },
     "execution_count": 20,
     "metadata": {},
     "output_type": "execute_result"
    }
   ],
   "source": [
    "# Since the % of Null value in User is high in Age column which not a necessary column right now, so we will leave that column as it is.\n",
    "# NUll value % in books is very low so we can remove the null values.\n",
    "books[books.isnull().any(axis=1)]"
   ]
  },
  {
   "cell_type": "code",
   "execution_count": 21,
   "id": "09e71a3f",
   "metadata": {},
   "outputs": [],
   "source": [
    "# dropping all the null values permanently\n",
    "books.dropna(inplace=True)"
   ]
  },
  {
   "cell_type": "code",
   "execution_count": 22,
   "id": "4b986d39",
   "metadata": {},
   "outputs": [
    {
     "data": {
      "text/plain": [
       "ISBN           0\n",
       "title          0\n",
       "author         0\n",
       "year_of_pub    0\n",
       "publisher      0\n",
       "Image-URL-S    0\n",
       "Image-URL-M    0\n",
       "Image-URL-L    0\n",
       "dtype: int64"
      ]
     },
     "execution_count": 22,
     "metadata": {},
     "output_type": "execute_result"
    }
   ],
   "source": [
    "books.isna().sum()"
   ]
  },
  {
   "cell_type": "code",
   "execution_count": 23,
   "id": "21266f09",
   "metadata": {},
   "outputs": [
    {
     "data": {
      "text/plain": [
       "102020"
      ]
     },
     "execution_count": 23,
     "metadata": {},
     "output_type": "execute_result"
    }
   ],
   "source": [
    "# finding unique authors for the books \n",
    "len(books['author'].unique())"
   ]
  },
  {
   "cell_type": "code",
   "execution_count": 24,
   "id": "5c18686b",
   "metadata": {},
   "outputs": [
    {
     "data": {
      "text/plain": [
       "242130"
      ]
     },
     "execution_count": 24,
     "metadata": {},
     "output_type": "execute_result"
    }
   ],
   "source": [
    "# finding unique book titles in our data \n",
    "len(books['title'].unique())"
   ]
  },
  {
   "cell_type": "code",
   "execution_count": 25,
   "id": "935433ef",
   "metadata": {},
   "outputs": [
    {
     "data": {
      "text/plain": [
       "16803"
      ]
     },
     "execution_count": 25,
     "metadata": {},
     "output_type": "execute_result"
    }
   ],
   "source": [
    "#finding unique publishers in our data\n",
    "len(books['publisher'].unique())"
   ]
  },
  {
   "cell_type": "code",
   "execution_count": 26,
   "id": "ae19523a",
   "metadata": {},
   "outputs": [
    {
     "data": {
      "text/plain": [
       "Agatha Christie        632\n",
       "William Shakespeare    567\n",
       "Stephen King           524\n",
       "Ann M. Martin          423\n",
       "Carolyn Keene          373\n",
       "Name: author, dtype: int64"
      ]
     },
     "execution_count": 26,
     "metadata": {},
     "output_type": "execute_result"
    }
   ],
   "source": [
    "# Lets check the Authors with highest number of books published \n",
    "books['author'].value_counts().head()"
   ]
  },
  {
   "cell_type": "code",
   "execution_count": 27,
   "id": "84a760df",
   "metadata": {},
   "outputs": [],
   "source": [
    "import seaborn as sns"
   ]
  },
  {
   "cell_type": "code",
   "execution_count": 28,
   "id": "906ea223",
   "metadata": {},
   "outputs": [
    {
     "data": {
      "text/plain": [
       "Text(0.5, 1.0, 'Book-Author')"
      ]
     },
     "execution_count": 28,
     "metadata": {},
     "output_type": "execute_result"
    },
    {
     "data": {
      "image/png": "[encoded data removed]",
      "text/plain": [
       "<Figure size 576x432 with 1 Axes>"
      ]
     },
     "metadata": {},
     "output_type": "display_data"
    }
   ],
   "source": [
    "#lets plot the data \n",
    "sns.set(font_scale=1.0)\n",
    "books['author'].value_counts()[:10].plot(kind='bar',figsize=(8,6),\n",
    "                                        xlabel=\"Name of the Author\",\n",
    "                                        ylabel=\"Count of books\")\n",
    "plt.title(\"Book-Author\")"
   ]
  },
  {
   "cell_type": "code",
   "execution_count": 29,
   "id": "a2cb9645",
   "metadata": {},
   "outputs": [
    {
     "data": {
      "text/plain": [
       "Selected Poems       27\n",
       "Little Women         24\n",
       "Wuthering Heights    21\n",
       "The Secret Garden    20\n",
       "Dracula              20\n",
       "Name: title, dtype: int64"
      ]
     },
     "execution_count": 29,
     "metadata": {},
     "output_type": "execute_result"
    }
   ],
   "source": [
    "# Lets check the top books published maximum times \n",
    "books['title'].value_counts().head()"
   ]
  },
  {
   "cell_type": "code",
   "execution_count": 30,
   "id": "61ec1857",
   "metadata": {},
   "outputs": [
    {
     "data": {
      "text/plain": [
       "Text(0.5, 1.0, 'Book published Maximum times')"
      ]
     },
     "execution_count": 30,
     "metadata": {},
     "output_type": "execute_result"
    },
    {
     "data": {
      "image/png": "[encoded data removed]",
      "text/plain": [
       "<Figure size 576x432 with 1 Axes>"
      ]
     },
     "metadata": {},
     "output_type": "display_data"
    }
   ],
   "source": [
    "sns.set(font_scale=1.1)\n",
    "books['title'].value_counts()[:10].plot(kind='bar',figsize=(8,6),\n",
    "                                       xlabel=\"Books Published\",\n",
    "                                       ylabel=\"Count of books\")\n",
    "plt.title(\"Book published Maximum times\")"
   ]
  },
  {
   "cell_type": "code",
   "execution_count": 31,
   "id": "af4d30a6",
   "metadata": {},
   "outputs": [
    {
     "data": {
      "text/plain": [
       "2002    17626\n",
       "1999    17431\n",
       "2001    17358\n",
       "2000    17232\n",
       "1998    15766\n",
       "Name: year_of_pub, dtype: int64"
      ]
     },
     "execution_count": 31,
     "metadata": {},
     "output_type": "execute_result"
    }
   ],
   "source": [
    "## Top 5 publication year that has seen maximum publications\n",
    "books['year_of_pub'].value_counts().head()"
   ]
  },
  {
   "cell_type": "code",
   "execution_count": 32,
   "id": "50760267",
   "metadata": {},
   "outputs": [
    {
     "data": {
      "text/plain": [
       "Text(0.5, 1.0, 'Top 5 publications')"
      ]
     },
     "execution_count": 32,
     "metadata": {},
     "output_type": "execute_result"
    },
    {
     "data": {
      "image/png": "[encoded data removed]",
      "text/plain": [
       "<Figure size 576x432 with 1 Axes>"
      ]
     },
     "metadata": {},
     "output_type": "display_data"
    }
   ],
   "source": [
    "sns.set(font_scale=1.1)\n",
    "books['year_of_pub'].value_counts()[:5].plot(kind='bar',figsize=(8,6),\n",
    "                                       xlabel=\"Year of Publications\",\n",
    "                                       ylabel=\"Count of books\")\n",
    "plt.title(\"Top 5 publications\")"
   ]
  },
  {
   "cell_type": "code",
   "execution_count": 33,
   "id": "b853bd72",
   "metadata": {},
   "outputs": [
    {
     "data": {
      "text/plain": [
       "Harlequin           7535\n",
       "Silhouette          4220\n",
       "Pocket              3905\n",
       "Ballantine Books    3783\n",
       "Bantam Books        3646\n",
       "Name: publisher, dtype: int64"
      ]
     },
     "execution_count": 33,
     "metadata": {},
     "output_type": "execute_result"
    }
   ],
   "source": [
    "# Top 5 Publishers with maximum books being puublished\n",
    "books[\"publisher\"].value_counts().head()"
   ]
  },
  {
   "cell_type": "code",
   "execution_count": 34,
   "id": "8e28d0a1",
   "metadata": {},
   "outputs": [
    {
     "data": {
      "text/plain": [
       "Text(0.5, 1.0, 'Top 5 publishers')"
      ]
     },
     "execution_count": 34,
     "metadata": {},
     "output_type": "execute_result"
    },
    {
     "data": {
      "image/png": "[encoded data removed]",
      "text/plain": [
       "<Figure size 576x432 with 1 Axes>"
      ]
     },
     "metadata": {},
     "output_type": "display_data"
    }
   ],
   "source": [
    "sns.set(font_scale=1.1)\n",
    "books['publisher'].value_counts()[:5].plot(kind='bar',figsize=(8,6),\n",
    "                                       xlabel=\"Year of Publications\",\n",
    "                                       ylabel=\"Count of books\")\n",
    "plt.title(\"Top 5 publishers\")"
   ]
  },
  {
   "cell_type": "markdown",
   "id": "d346fdec",
   "metadata": {},
   "source": [
    "##### Modelling the data for Recommendation system Model building (Popularity based)"
   ]
  },
  {
   "cell_type": "code",
   "execution_count": 35,
   "id": "8f3e8628",
   "metadata": {},
   "outputs": [
    {
     "data": {
      "text/html": [
       "<div>\n",
       "<style scoped>\n",
       "    .dataframe tbody tr th:only-of-type {\n",
       "        vertical-align: middle;\n",
       "    }\n",
       "\n",
       "    .dataframe tbody tr th {\n",
       "        vertical-align: top;\n",
       "    }\n",
       "\n",
       "    .dataframe thead th {\n",
       "        text-align: right;\n",
       "    }\n",
       "</style>\n",
       "<table border=\"1\" class=\"dataframe\">\n",
       "  <thead>\n",
       "    <tr style=\"text-align: right;\">\n",
       "      <th></th>\n",
       "      <th>user_id</th>\n",
       "      <th>ISBN</th>\n",
       "      <th>rating</th>\n",
       "      <th>title</th>\n",
       "      <th>author</th>\n",
       "      <th>year_of_pub</th>\n",
       "      <th>publisher</th>\n",
       "      <th>Image-URL-S</th>\n",
       "      <th>Image-URL-M</th>\n",
       "      <th>Image-URL-L</th>\n",
       "    </tr>\n",
       "  </thead>\n",
       "  <tbody>\n",
       "    <tr>\n",
       "      <th>0</th>\n",
       "      <td>276725</td>\n",
       "      <td>034545104X</td>\n",
       "      <td>0</td>\n",
       "      <td>Flesh Tones: A Novel</td>\n",
       "      <td>M. J. Rose</td>\n",
       "      <td>2002</td>\n",
       "      <td>Ballantine Books</td>\n",
       "      <td>http://images.amazon.com/images/P/034545104X.0...</td>\n",
       "      <td>http://images.amazon.com/images/P/034545104X.0...</td>\n",
       "      <td>http://images.amazon.com/images/P/034545104X.0...</td>\n",
       "    </tr>\n",
       "    <tr>\n",
       "      <th>1</th>\n",
       "      <td>2313</td>\n",
       "      <td>034545104X</td>\n",
       "      <td>5</td>\n",
       "      <td>Flesh Tones: A Novel</td>\n",
       "      <td>M. J. Rose</td>\n",
       "      <td>2002</td>\n",
       "      <td>Ballantine Books</td>\n",
       "      <td>http://images.amazon.com/images/P/034545104X.0...</td>\n",
       "      <td>http://images.amazon.com/images/P/034545104X.0...</td>\n",
       "      <td>http://images.amazon.com/images/P/034545104X.0...</td>\n",
       "    </tr>\n",
       "    <tr>\n",
       "      <th>2</th>\n",
       "      <td>6543</td>\n",
       "      <td>034545104X</td>\n",
       "      <td>0</td>\n",
       "      <td>Flesh Tones: A Novel</td>\n",
       "      <td>M. J. Rose</td>\n",
       "      <td>2002</td>\n",
       "      <td>Ballantine Books</td>\n",
       "      <td>http://images.amazon.com/images/P/034545104X.0...</td>\n",
       "      <td>http://images.amazon.com/images/P/034545104X.0...</td>\n",
       "      <td>http://images.amazon.com/images/P/034545104X.0...</td>\n",
       "    </tr>\n",
       "    <tr>\n",
       "      <th>3</th>\n",
       "      <td>8680</td>\n",
       "      <td>034545104X</td>\n",
       "      <td>5</td>\n",
       "      <td>Flesh Tones: A Novel</td>\n",
       "      <td>M. J. Rose</td>\n",
       "      <td>2002</td>\n",
       "      <td>Ballantine Books</td>\n",
       "      <td>http://images.amazon.com/images/P/034545104X.0...</td>\n",
       "      <td>http://images.amazon.com/images/P/034545104X.0...</td>\n",
       "      <td>http://images.amazon.com/images/P/034545104X.0...</td>\n",
       "    </tr>\n",
       "    <tr>\n",
       "      <th>4</th>\n",
       "      <td>10314</td>\n",
       "      <td>034545104X</td>\n",
       "      <td>9</td>\n",
       "      <td>Flesh Tones: A Novel</td>\n",
       "      <td>M. J. Rose</td>\n",
       "      <td>2002</td>\n",
       "      <td>Ballantine Books</td>\n",
       "      <td>http://images.amazon.com/images/P/034545104X.0...</td>\n",
       "      <td>http://images.amazon.com/images/P/034545104X.0...</td>\n",
       "      <td>http://images.amazon.com/images/P/034545104X.0...</td>\n",
       "    </tr>\n",
       "  </tbody>\n",
       "</table>\n",
       "</div>"
      ],
      "text/plain": [
       "   user_id        ISBN  rating                 title      author year_of_pub  \\\n",
       "0   276725  034545104X       0  Flesh Tones: A Novel  M. J. Rose        2002   \n",
       "1     2313  034545104X       5  Flesh Tones: A Novel  M. J. Rose        2002   \n",
       "2     6543  034545104X       0  Flesh Tones: A Novel  M. J. Rose        2002   \n",
       "3     8680  034545104X       5  Flesh Tones: A Novel  M. J. Rose        2002   \n",
       "4    10314  034545104X       9  Flesh Tones: A Novel  M. J. Rose        2002   \n",
       "\n",
       "          publisher                                        Image-URL-S  \\\n",
       "0  Ballantine Books  http://images.amazon.com/images/P/034545104X.0...   \n",
       "1  Ballantine Books  http://images.amazon.com/images/P/034545104X.0...   \n",
       "2  Ballantine Books  http://images.amazon.com/images/P/034545104X.0...   \n",
       "3  Ballantine Books  http://images.amazon.com/images/P/034545104X.0...   \n",
       "4  Ballantine Books  http://images.amazon.com/images/P/034545104X.0...   \n",
       "\n",
       "                                         Image-URL-M  \\\n",
       "0  http://images.amazon.com/images/P/034545104X.0...   \n",
       "1  http://images.amazon.com/images/P/034545104X.0...   \n",
       "2  http://images.amazon.com/images/P/034545104X.0...   \n",
       "3  http://images.amazon.com/images/P/034545104X.0...   \n",
       "4  http://images.amazon.com/images/P/034545104X.0...   \n",
       "\n",
       "                                         Image-URL-L  \n",
       "0  http://images.amazon.com/images/P/034545104X.0...  \n",
       "1  http://images.amazon.com/images/P/034545104X.0...  \n",
       "2  http://images.amazon.com/images/P/034545104X.0...  \n",
       "3  http://images.amazon.com/images/P/034545104X.0...  \n",
       "4  http://images.amazon.com/images/P/034545104X.0...  "
      ]
     },
     "execution_count": 35,
     "metadata": {},
     "output_type": "execute_result"
    }
   ],
   "source": [
    "#Here we are displaying highest average rating...the top 50 higest rating books which has minimum of 250 ratings\n",
    "# We are going to merge ratings and books dataset on 'ISBN' number \n",
    "\n",
    "books_with_ratings = rating.merge(books, on=\"ISBN\")\n",
    "books_with_ratings.head(5)"
   ]
  },
  {
   "cell_type": "code",
   "execution_count": 36,
   "id": "5163f2bf",
   "metadata": {},
   "outputs": [],
   "source": [
    "book_title_and_rating_only = books_with_ratings.groupby('title').count()['rating'].reset_index()"
   ]
  },
  {
   "cell_type": "code",
   "execution_count": 37,
   "id": "a6d3c1a8",
   "metadata": {},
   "outputs": [
    {
     "data": {
      "text/html": [
       "<div>\n",
       "<style scoped>\n",
       "    .dataframe tbody tr th:only-of-type {\n",
       "        vertical-align: middle;\n",
       "    }\n",
       "\n",
       "    .dataframe tbody tr th {\n",
       "        vertical-align: top;\n",
       "    }\n",
       "\n",
       "    .dataframe thead th {\n",
       "        text-align: right;\n",
       "    }\n",
       "</style>\n",
       "<table border=\"1\" class=\"dataframe\">\n",
       "  <thead>\n",
       "    <tr style=\"text-align: right;\">\n",
       "      <th></th>\n",
       "      <th>title</th>\n",
       "      <th>num_rating</th>\n",
       "    </tr>\n",
       "  </thead>\n",
       "  <tbody>\n",
       "    <tr>\n",
       "      <th>0</th>\n",
       "      <td>A Light in the Storm: The Civil War Diary of ...</td>\n",
       "      <td>4</td>\n",
       "    </tr>\n",
       "    <tr>\n",
       "      <th>1</th>\n",
       "      <td>Always Have Popsicles</td>\n",
       "      <td>1</td>\n",
       "    </tr>\n",
       "    <tr>\n",
       "      <th>2</th>\n",
       "      <td>Apple Magic (The Collector's series)</td>\n",
       "      <td>1</td>\n",
       "    </tr>\n",
       "    <tr>\n",
       "      <th>3</th>\n",
       "      <td>Ask Lily (Young Women of Faith: Lily Series, ...</td>\n",
       "      <td>1</td>\n",
       "    </tr>\n",
       "    <tr>\n",
       "      <th>4</th>\n",
       "      <td>Beyond IBM: Leadership Marketing and Finance ...</td>\n",
       "      <td>1</td>\n",
       "    </tr>\n",
       "    <tr>\n",
       "      <th>...</th>\n",
       "      <td>...</td>\n",
       "      <td>...</td>\n",
       "    </tr>\n",
       "    <tr>\n",
       "      <th>241061</th>\n",
       "      <td>Ã?Â?lpiraten.</td>\n",
       "      <td>2</td>\n",
       "    </tr>\n",
       "    <tr>\n",
       "      <th>241062</th>\n",
       "      <td>Ã?Â?rger mit Produkt X. Roman.</td>\n",
       "      <td>4</td>\n",
       "    </tr>\n",
       "    <tr>\n",
       "      <th>241063</th>\n",
       "      <td>Ã?Â?sterlich leben.</td>\n",
       "      <td>1</td>\n",
       "    </tr>\n",
       "    <tr>\n",
       "      <th>241064</th>\n",
       "      <td>Ã?Â?stlich der Berge.</td>\n",
       "      <td>3</td>\n",
       "    </tr>\n",
       "    <tr>\n",
       "      <th>241065</th>\n",
       "      <td>Ã?Â?thique en toc</td>\n",
       "      <td>2</td>\n",
       "    </tr>\n",
       "  </tbody>\n",
       "</table>\n",
       "<p>241066 rows × 2 columns</p>\n",
       "</div>"
      ],
      "text/plain": [
       "                                                    title  num_rating\n",
       "0        A Light in the Storm: The Civil War Diary of ...           4\n",
       "1                                   Always Have Popsicles           1\n",
       "2                    Apple Magic (The Collector's series)           1\n",
       "3        Ask Lily (Young Women of Faith: Lily Series, ...           1\n",
       "4        Beyond IBM: Leadership Marketing and Finance ...           1\n",
       "...                                                   ...         ...\n",
       "241061                                      Ã?Â?lpiraten.           2\n",
       "241062                     Ã?Â?rger mit Produkt X. Roman.           4\n",
       "241063                                Ã?Â?sterlich leben.           1\n",
       "241064                              Ã?Â?stlich der Berge.           3\n",
       "241065                                  Ã?Â?thique en toc           2\n",
       "\n",
       "[241066 rows x 2 columns]"
      ]
     },
     "execution_count": 37,
     "metadata": {},
     "output_type": "execute_result"
    }
   ],
   "source": [
    "book_title_and_rating_only.rename(columns={'rating': 'num_rating'},inplace=True)\n",
    "book_title_and_rating_only"
   ]
  },
  {
   "cell_type": "code",
   "execution_count": 38,
   "id": "4232d24a",
   "metadata": {},
   "outputs": [
    {
     "data": {
      "text/html": [
       "<div>\n",
       "<style scoped>\n",
       "    .dataframe tbody tr th:only-of-type {\n",
       "        vertical-align: middle;\n",
       "    }\n",
       "\n",
       "    .dataframe tbody tr th {\n",
       "        vertical-align: top;\n",
       "    }\n",
       "\n",
       "    .dataframe thead th {\n",
       "        text-align: right;\n",
       "    }\n",
       "</style>\n",
       "<table border=\"1\" class=\"dataframe\">\n",
       "  <thead>\n",
       "    <tr style=\"text-align: right;\">\n",
       "      <th></th>\n",
       "      <th>num_rating</th>\n",
       "    </tr>\n",
       "  </thead>\n",
       "  <tbody>\n",
       "    <tr>\n",
       "      <th>count</th>\n",
       "      <td>241066.000000</td>\n",
       "    </tr>\n",
       "    <tr>\n",
       "      <th>mean</th>\n",
       "      <td>4.277372</td>\n",
       "    </tr>\n",
       "    <tr>\n",
       "      <th>std</th>\n",
       "      <td>16.738847</td>\n",
       "    </tr>\n",
       "    <tr>\n",
       "      <th>min</th>\n",
       "      <td>1.000000</td>\n",
       "    </tr>\n",
       "    <tr>\n",
       "      <th>25%</th>\n",
       "      <td>1.000000</td>\n",
       "    </tr>\n",
       "    <tr>\n",
       "      <th>50%</th>\n",
       "      <td>1.000000</td>\n",
       "    </tr>\n",
       "    <tr>\n",
       "      <th>75%</th>\n",
       "      <td>3.000000</td>\n",
       "    </tr>\n",
       "    <tr>\n",
       "      <th>max</th>\n",
       "      <td>2502.000000</td>\n",
       "    </tr>\n",
       "  </tbody>\n",
       "</table>\n",
       "</div>"
      ],
      "text/plain": [
       "          num_rating\n",
       "count  241066.000000\n",
       "mean        4.277372\n",
       "std        16.738847\n",
       "min         1.000000\n",
       "25%         1.000000\n",
       "50%         1.000000\n",
       "75%         3.000000\n",
       "max      2502.000000"
      ]
     },
     "execution_count": 38,
     "metadata": {},
     "output_type": "execute_result"
    }
   ],
   "source": [
    "book_title_and_rating_only.describe()"
   ]
  },
  {
   "cell_type": "code",
   "execution_count": 39,
   "id": "5f3c507d",
   "metadata": {},
   "outputs": [
    {
     "data": {
      "text/html": [
       "<div>\n",
       "<style scoped>\n",
       "    .dataframe tbody tr th:only-of-type {\n",
       "        vertical-align: middle;\n",
       "    }\n",
       "\n",
       "    .dataframe tbody tr th {\n",
       "        vertical-align: top;\n",
       "    }\n",
       "\n",
       "    .dataframe thead th {\n",
       "        text-align: right;\n",
       "    }\n",
       "</style>\n",
       "<table border=\"1\" class=\"dataframe\">\n",
       "  <thead>\n",
       "    <tr style=\"text-align: right;\">\n",
       "      <th></th>\n",
       "      <th>title</th>\n",
       "      <th>avg_rating</th>\n",
       "    </tr>\n",
       "  </thead>\n",
       "  <tbody>\n",
       "    <tr>\n",
       "      <th>0</th>\n",
       "      <td>A Light in the Storm: The Civil War Diary of ...</td>\n",
       "      <td>2.250000</td>\n",
       "    </tr>\n",
       "    <tr>\n",
       "      <th>1</th>\n",
       "      <td>Always Have Popsicles</td>\n",
       "      <td>0.000000</td>\n",
       "    </tr>\n",
       "    <tr>\n",
       "      <th>2</th>\n",
       "      <td>Apple Magic (The Collector's series)</td>\n",
       "      <td>0.000000</td>\n",
       "    </tr>\n",
       "    <tr>\n",
       "      <th>3</th>\n",
       "      <td>Ask Lily (Young Women of Faith: Lily Series, ...</td>\n",
       "      <td>8.000000</td>\n",
       "    </tr>\n",
       "    <tr>\n",
       "      <th>4</th>\n",
       "      <td>Beyond IBM: Leadership Marketing and Finance ...</td>\n",
       "      <td>0.000000</td>\n",
       "    </tr>\n",
       "    <tr>\n",
       "      <th>...</th>\n",
       "      <td>...</td>\n",
       "      <td>...</td>\n",
       "    </tr>\n",
       "    <tr>\n",
       "      <th>241061</th>\n",
       "      <td>Ã?Â?lpiraten.</td>\n",
       "      <td>0.000000</td>\n",
       "    </tr>\n",
       "    <tr>\n",
       "      <th>241062</th>\n",
       "      <td>Ã?Â?rger mit Produkt X. Roman.</td>\n",
       "      <td>5.250000</td>\n",
       "    </tr>\n",
       "    <tr>\n",
       "      <th>241063</th>\n",
       "      <td>Ã?Â?sterlich leben.</td>\n",
       "      <td>7.000000</td>\n",
       "    </tr>\n",
       "    <tr>\n",
       "      <th>241064</th>\n",
       "      <td>Ã?Â?stlich der Berge.</td>\n",
       "      <td>2.666667</td>\n",
       "    </tr>\n",
       "    <tr>\n",
       "      <th>241065</th>\n",
       "      <td>Ã?Â?thique en toc</td>\n",
       "      <td>4.000000</td>\n",
       "    </tr>\n",
       "  </tbody>\n",
       "</table>\n",
       "<p>241066 rows × 2 columns</p>\n",
       "</div>"
      ],
      "text/plain": [
       "                                                    title  avg_rating\n",
       "0        A Light in the Storm: The Civil War Diary of ...    2.250000\n",
       "1                                   Always Have Popsicles    0.000000\n",
       "2                    Apple Magic (The Collector's series)    0.000000\n",
       "3        Ask Lily (Young Women of Faith: Lily Series, ...    8.000000\n",
       "4        Beyond IBM: Leadership Marketing and Finance ...    0.000000\n",
       "...                                                   ...         ...\n",
       "241061                                      Ã?Â?lpiraten.    0.000000\n",
       "241062                     Ã?Â?rger mit Produkt X. Roman.    5.250000\n",
       "241063                                Ã?Â?sterlich leben.    7.000000\n",
       "241064                              Ã?Â?stlich der Berge.    2.666667\n",
       "241065                                  Ã?Â?thique en toc    4.000000\n",
       "\n",
       "[241066 rows x 2 columns]"
      ]
     },
     "execution_count": 39,
     "metadata": {},
     "output_type": "execute_result"
    }
   ],
   "source": [
    "book_title_and_avg_rating_only = books_with_ratings.groupby('title').mean()['rating'].reset_index()\n",
    "book_title_and_avg_rating_only.rename(columns={'rating':'avg_rating'}, inplace=True)\n",
    "book_title_and_avg_rating_only"
   ]
  },
  {
   "cell_type": "code",
   "execution_count": 40,
   "id": "52081b33",
   "metadata": {},
   "outputs": [
    {
     "data": {
      "text/html": [
       "<div>\n",
       "<style scoped>\n",
       "    .dataframe tbody tr th:only-of-type {\n",
       "        vertical-align: middle;\n",
       "    }\n",
       "\n",
       "    .dataframe tbody tr th {\n",
       "        vertical-align: top;\n",
       "    }\n",
       "\n",
       "    .dataframe thead th {\n",
       "        text-align: right;\n",
       "    }\n",
       "</style>\n",
       "<table border=\"1\" class=\"dataframe\">\n",
       "  <thead>\n",
       "    <tr style=\"text-align: right;\">\n",
       "      <th></th>\n",
       "      <th>avg_rating</th>\n",
       "    </tr>\n",
       "  </thead>\n",
       "  <tbody>\n",
       "    <tr>\n",
       "      <th>count</th>\n",
       "      <td>241066.000000</td>\n",
       "    </tr>\n",
       "    <tr>\n",
       "      <th>mean</th>\n",
       "      <td>2.890110</td>\n",
       "    </tr>\n",
       "    <tr>\n",
       "      <th>std</th>\n",
       "      <td>3.268966</td>\n",
       "    </tr>\n",
       "    <tr>\n",
       "      <th>min</th>\n",
       "      <td>0.000000</td>\n",
       "    </tr>\n",
       "    <tr>\n",
       "      <th>25%</th>\n",
       "      <td>0.000000</td>\n",
       "    </tr>\n",
       "    <tr>\n",
       "      <th>50%</th>\n",
       "      <td>1.971429</td>\n",
       "    </tr>\n",
       "    <tr>\n",
       "      <th>75%</th>\n",
       "      <td>5.000000</td>\n",
       "    </tr>\n",
       "    <tr>\n",
       "      <th>max</th>\n",
       "      <td>10.000000</td>\n",
       "    </tr>\n",
       "  </tbody>\n",
       "</table>\n",
       "</div>"
      ],
      "text/plain": [
       "          avg_rating\n",
       "count  241066.000000\n",
       "mean        2.890110\n",
       "std         3.268966\n",
       "min         0.000000\n",
       "25%         0.000000\n",
       "50%         1.971429\n",
       "75%         5.000000\n",
       "max        10.000000"
      ]
     },
     "execution_count": 40,
     "metadata": {},
     "output_type": "execute_result"
    }
   ],
   "source": [
    "book_title_and_avg_rating_only.describe()"
   ]
  },
  {
   "cell_type": "code",
   "execution_count": 41,
   "id": "857f1d30",
   "metadata": {},
   "outputs": [
    {
     "data": {
      "text/html": [
       "<div>\n",
       "<style scoped>\n",
       "    .dataframe tbody tr th:only-of-type {\n",
       "        vertical-align: middle;\n",
       "    }\n",
       "\n",
       "    .dataframe tbody tr th {\n",
       "        vertical-align: top;\n",
       "    }\n",
       "\n",
       "    .dataframe thead th {\n",
       "        text-align: right;\n",
       "    }\n",
       "</style>\n",
       "<table border=\"1\" class=\"dataframe\">\n",
       "  <thead>\n",
       "    <tr style=\"text-align: right;\">\n",
       "      <th></th>\n",
       "      <th>title</th>\n",
       "      <th>num_rating</th>\n",
       "      <th>avg_rating</th>\n",
       "    </tr>\n",
       "  </thead>\n",
       "  <tbody>\n",
       "    <tr>\n",
       "      <th>0</th>\n",
       "      <td>A Light in the Storm: The Civil War Diary of ...</td>\n",
       "      <td>4</td>\n",
       "      <td>2.250000</td>\n",
       "    </tr>\n",
       "    <tr>\n",
       "      <th>1</th>\n",
       "      <td>Always Have Popsicles</td>\n",
       "      <td>1</td>\n",
       "      <td>0.000000</td>\n",
       "    </tr>\n",
       "    <tr>\n",
       "      <th>2</th>\n",
       "      <td>Apple Magic (The Collector's series)</td>\n",
       "      <td>1</td>\n",
       "      <td>0.000000</td>\n",
       "    </tr>\n",
       "    <tr>\n",
       "      <th>3</th>\n",
       "      <td>Ask Lily (Young Women of Faith: Lily Series, ...</td>\n",
       "      <td>1</td>\n",
       "      <td>8.000000</td>\n",
       "    </tr>\n",
       "    <tr>\n",
       "      <th>4</th>\n",
       "      <td>Beyond IBM: Leadership Marketing and Finance ...</td>\n",
       "      <td>1</td>\n",
       "      <td>0.000000</td>\n",
       "    </tr>\n",
       "    <tr>\n",
       "      <th>...</th>\n",
       "      <td>...</td>\n",
       "      <td>...</td>\n",
       "      <td>...</td>\n",
       "    </tr>\n",
       "    <tr>\n",
       "      <th>241061</th>\n",
       "      <td>Ã?Â?lpiraten.</td>\n",
       "      <td>2</td>\n",
       "      <td>0.000000</td>\n",
       "    </tr>\n",
       "    <tr>\n",
       "      <th>241062</th>\n",
       "      <td>Ã?Â?rger mit Produkt X. Roman.</td>\n",
       "      <td>4</td>\n",
       "      <td>5.250000</td>\n",
       "    </tr>\n",
       "    <tr>\n",
       "      <th>241063</th>\n",
       "      <td>Ã?Â?sterlich leben.</td>\n",
       "      <td>1</td>\n",
       "      <td>7.000000</td>\n",
       "    </tr>\n",
       "    <tr>\n",
       "      <th>241064</th>\n",
       "      <td>Ã?Â?stlich der Berge.</td>\n",
       "      <td>3</td>\n",
       "      <td>2.666667</td>\n",
       "    </tr>\n",
       "    <tr>\n",
       "      <th>241065</th>\n",
       "      <td>Ã?Â?thique en toc</td>\n",
       "      <td>2</td>\n",
       "      <td>4.000000</td>\n",
       "    </tr>\n",
       "  </tbody>\n",
       "</table>\n",
       "<p>241066 rows × 3 columns</p>\n",
       "</div>"
      ],
      "text/plain": [
       "                                                    title  num_rating  \\\n",
       "0        A Light in the Storm: The Civil War Diary of ...           4   \n",
       "1                                   Always Have Popsicles           1   \n",
       "2                    Apple Magic (The Collector's series)           1   \n",
       "3        Ask Lily (Young Women of Faith: Lily Series, ...           1   \n",
       "4        Beyond IBM: Leadership Marketing and Finance ...           1   \n",
       "...                                                   ...         ...   \n",
       "241061                                      Ã?Â?lpiraten.           2   \n",
       "241062                     Ã?Â?rger mit Produkt X. Roman.           4   \n",
       "241063                                Ã?Â?sterlich leben.           1   \n",
       "241064                              Ã?Â?stlich der Berge.           3   \n",
       "241065                                  Ã?Â?thique en toc           2   \n",
       "\n",
       "        avg_rating  \n",
       "0         2.250000  \n",
       "1         0.000000  \n",
       "2         0.000000  \n",
       "3         8.000000  \n",
       "4         0.000000  \n",
       "...            ...  \n",
       "241061    0.000000  \n",
       "241062    5.250000  \n",
       "241063    7.000000  \n",
       "241064    2.666667  \n",
       "241065    4.000000  \n",
       "\n",
       "[241066 rows x 3 columns]"
      ]
     },
     "execution_count": 41,
     "metadata": {},
     "output_type": "execute_result"
    }
   ],
   "source": [
    "popular_books = book_title_and_rating_only.merge(book_title_and_avg_rating_only, on='title')\n",
    "popular_books"
   ]
  },
  {
   "cell_type": "code",
   "execution_count": 42,
   "id": "c3178281",
   "metadata": {},
   "outputs": [
    {
     "data": {
      "text/html": [
       "<div>\n",
       "<style scoped>\n",
       "    .dataframe tbody tr th:only-of-type {\n",
       "        vertical-align: middle;\n",
       "    }\n",
       "\n",
       "    .dataframe tbody tr th {\n",
       "        vertical-align: top;\n",
       "    }\n",
       "\n",
       "    .dataframe thead th {\n",
       "        text-align: right;\n",
       "    }\n",
       "</style>\n",
       "<table border=\"1\" class=\"dataframe\">\n",
       "  <thead>\n",
       "    <tr style=\"text-align: right;\">\n",
       "      <th></th>\n",
       "      <th>title</th>\n",
       "      <th>num_rating</th>\n",
       "      <th>avg_rating</th>\n",
       "    </tr>\n",
       "  </thead>\n",
       "  <tbody>\n",
       "    <tr>\n",
       "      <th>80432</th>\n",
       "      <td>Harry Potter and the Prisoner of Azkaban (Book 3)</td>\n",
       "      <td>428</td>\n",
       "      <td>5.852804</td>\n",
       "    </tr>\n",
       "    <tr>\n",
       "      <th>80420</th>\n",
       "      <td>Harry Potter and the Goblet of Fire (Book 4)</td>\n",
       "      <td>387</td>\n",
       "      <td>5.824289</td>\n",
       "    </tr>\n",
       "    <tr>\n",
       "      <th>80439</th>\n",
       "      <td>Harry Potter and the Sorcerer's Stone (Book 1)</td>\n",
       "      <td>278</td>\n",
       "      <td>5.737410</td>\n",
       "    </tr>\n",
       "    <tr>\n",
       "      <th>80424</th>\n",
       "      <td>Harry Potter and the Order of the Phoenix (Boo...</td>\n",
       "      <td>347</td>\n",
       "      <td>5.501441</td>\n",
       "    </tr>\n",
       "    <tr>\n",
       "      <th>80412</th>\n",
       "      <td>Harry Potter and the Chamber of Secrets (Book 2)</td>\n",
       "      <td>556</td>\n",
       "      <td>5.183453</td>\n",
       "    </tr>\n",
       "  </tbody>\n",
       "</table>\n",
       "</div>"
      ],
      "text/plain": [
       "                                                   title  num_rating  \\\n",
       "80432  Harry Potter and the Prisoner of Azkaban (Book 3)         428   \n",
       "80420       Harry Potter and the Goblet of Fire (Book 4)         387   \n",
       "80439     Harry Potter and the Sorcerer's Stone (Book 1)         278   \n",
       "80424  Harry Potter and the Order of the Phoenix (Boo...         347   \n",
       "80412   Harry Potter and the Chamber of Secrets (Book 2)         556   \n",
       "\n",
       "       avg_rating  \n",
       "80432    5.852804  \n",
       "80420    5.824289  \n",
       "80439    5.737410  \n",
       "80424    5.501441  \n",
       "80412    5.183453  "
      ]
     },
     "execution_count": 42,
     "metadata": {},
     "output_type": "execute_result"
    }
   ],
   "source": [
    "top_50_books = popular_books[popular_books['num_rating'] >= 250].sort_values('avg_rating', ascending=False).head(50)\n",
    "top_50_books.head()"
   ]
  },
  {
   "cell_type": "code",
   "execution_count": 43,
   "id": "18daf7ed",
   "metadata": {},
   "outputs": [
    {
     "data": {
      "text/plain": [
       "(196, 10)"
      ]
     },
     "execution_count": 43,
     "metadata": {},
     "output_type": "execute_result"
    }
   ],
   "source": [
    "top_50_books = top_50_books.merge(books, on='title')\n",
    "top_50_books.shape"
   ]
  },
  {
   "cell_type": "code",
   "execution_count": 44,
   "id": "c71dd656",
   "metadata": {},
   "outputs": [
    {
     "data": {
      "text/html": [
       "<div>\n",
       "<style scoped>\n",
       "    .dataframe tbody tr th:only-of-type {\n",
       "        vertical-align: middle;\n",
       "    }\n",
       "\n",
       "    .dataframe tbody tr th {\n",
       "        vertical-align: top;\n",
       "    }\n",
       "\n",
       "    .dataframe thead th {\n",
       "        text-align: right;\n",
       "    }\n",
       "</style>\n",
       "<table border=\"1\" class=\"dataframe\">\n",
       "  <thead>\n",
       "    <tr style=\"text-align: right;\">\n",
       "      <th></th>\n",
       "      <th>title</th>\n",
       "      <th>num_rating</th>\n",
       "      <th>avg_rating</th>\n",
       "      <th>ISBN</th>\n",
       "      <th>author</th>\n",
       "      <th>year_of_pub</th>\n",
       "      <th>publisher</th>\n",
       "      <th>Image-URL-S</th>\n",
       "      <th>Image-URL-M</th>\n",
       "      <th>Image-URL-L</th>\n",
       "    </tr>\n",
       "  </thead>\n",
       "  <tbody>\n",
       "    <tr>\n",
       "      <th>0</th>\n",
       "      <td>Harry Potter and the Prisoner of Azkaban (Book 3)</td>\n",
       "      <td>428</td>\n",
       "      <td>5.852804</td>\n",
       "      <td>0439136350</td>\n",
       "      <td>J. K. Rowling</td>\n",
       "      <td>1999</td>\n",
       "      <td>Scholastic</td>\n",
       "      <td>http://images.amazon.com/images/P/0439136350.0...</td>\n",
       "      <td>http://images.amazon.com/images/P/0439136350.0...</td>\n",
       "      <td>http://images.amazon.com/images/P/0439136350.0...</td>\n",
       "    </tr>\n",
       "    <tr>\n",
       "      <th>1</th>\n",
       "      <td>Harry Potter and the Prisoner of Azkaban (Book 3)</td>\n",
       "      <td>428</td>\n",
       "      <td>5.852804</td>\n",
       "      <td>0439136369</td>\n",
       "      <td>J. K. Rowling</td>\n",
       "      <td>2001</td>\n",
       "      <td>Scholastic</td>\n",
       "      <td>http://images.amazon.com/images/P/0439136369.0...</td>\n",
       "      <td>http://images.amazon.com/images/P/0439136369.0...</td>\n",
       "      <td>http://images.amazon.com/images/P/0439136369.0...</td>\n",
       "    </tr>\n",
       "    <tr>\n",
       "      <th>2</th>\n",
       "      <td>Harry Potter and the Prisoner of Azkaban (Book 3)</td>\n",
       "      <td>428</td>\n",
       "      <td>5.852804</td>\n",
       "      <td>0786222743</td>\n",
       "      <td>J. K. Rowling</td>\n",
       "      <td>2000</td>\n",
       "      <td>Thorndike Press</td>\n",
       "      <td>http://images.amazon.com/images/P/0786222743.0...</td>\n",
       "      <td>http://images.amazon.com/images/P/0786222743.0...</td>\n",
       "      <td>http://images.amazon.com/images/P/0786222743.0...</td>\n",
       "    </tr>\n",
       "  </tbody>\n",
       "</table>\n",
       "</div>"
      ],
      "text/plain": [
       "                                               title  num_rating  avg_rating  \\\n",
       "0  Harry Potter and the Prisoner of Azkaban (Book 3)         428    5.852804   \n",
       "1  Harry Potter and the Prisoner of Azkaban (Book 3)         428    5.852804   \n",
       "2  Harry Potter and the Prisoner of Azkaban (Book 3)         428    5.852804   \n",
       "\n",
       "         ISBN         author year_of_pub        publisher  \\\n",
       "0  0439136350  J. K. Rowling        1999       Scholastic   \n",
       "1  0439136369  J. K. Rowling        2001       Scholastic   \n",
       "2  0786222743  J. K. Rowling        2000  Thorndike Press   \n",
       "\n",
       "                                         Image-URL-S  \\\n",
       "0  http://images.amazon.com/images/P/0439136350.0...   \n",
       "1  http://images.amazon.com/images/P/0439136369.0...   \n",
       "2  http://images.amazon.com/images/P/0786222743.0...   \n",
       "\n",
       "                                         Image-URL-M  \\\n",
       "0  http://images.amazon.com/images/P/0439136350.0...   \n",
       "1  http://images.amazon.com/images/P/0439136369.0...   \n",
       "2  http://images.amazon.com/images/P/0786222743.0...   \n",
       "\n",
       "                                         Image-URL-L  \n",
       "0  http://images.amazon.com/images/P/0439136350.0...  \n",
       "1  http://images.amazon.com/images/P/0439136369.0...  \n",
       "2  http://images.amazon.com/images/P/0786222743.0...  "
      ]
     },
     "execution_count": 44,
     "metadata": {},
     "output_type": "execute_result"
    }
   ],
   "source": [
    "top_50_books.head(3)"
   ]
  },
  {
   "cell_type": "code",
   "execution_count": 45,
   "id": "37ec25c2",
   "metadata": {},
   "outputs": [],
   "source": [
    "top_50_books.drop(['ISBN', 'Image-URL-S', 'Image-URL-L', 'publisher'], axis = 1, inplace=True)"
   ]
  },
  {
   "cell_type": "code",
   "execution_count": 46,
   "id": "a61661ba",
   "metadata": {},
   "outputs": [
    {
     "data": {
      "text/html": [
       "<div>\n",
       "<style scoped>\n",
       "    .dataframe tbody tr th:only-of-type {\n",
       "        vertical-align: middle;\n",
       "    }\n",
       "\n",
       "    .dataframe tbody tr th {\n",
       "        vertical-align: top;\n",
       "    }\n",
       "\n",
       "    .dataframe thead th {\n",
       "        text-align: right;\n",
       "    }\n",
       "</style>\n",
       "<table border=\"1\" class=\"dataframe\">\n",
       "  <thead>\n",
       "    <tr style=\"text-align: right;\">\n",
       "      <th></th>\n",
       "      <th>title</th>\n",
       "      <th>num_rating</th>\n",
       "      <th>avg_rating</th>\n",
       "      <th>author</th>\n",
       "      <th>year_of_pub</th>\n",
       "      <th>Image-URL-M</th>\n",
       "    </tr>\n",
       "  </thead>\n",
       "  <tbody>\n",
       "    <tr>\n",
       "      <th>0</th>\n",
       "      <td>Harry Potter and the Prisoner of Azkaban (Book 3)</td>\n",
       "      <td>428</td>\n",
       "      <td>5.852804</td>\n",
       "      <td>J. K. Rowling</td>\n",
       "      <td>1999</td>\n",
       "      <td>http://images.amazon.com/images/P/0439136350.0...</td>\n",
       "    </tr>\n",
       "    <tr>\n",
       "      <th>1</th>\n",
       "      <td>Harry Potter and the Prisoner of Azkaban (Book 3)</td>\n",
       "      <td>428</td>\n",
       "      <td>5.852804</td>\n",
       "      <td>J. K. Rowling</td>\n",
       "      <td>2001</td>\n",
       "      <td>http://images.amazon.com/images/P/0439136369.0...</td>\n",
       "    </tr>\n",
       "    <tr>\n",
       "      <th>2</th>\n",
       "      <td>Harry Potter and the Prisoner of Azkaban (Book 3)</td>\n",
       "      <td>428</td>\n",
       "      <td>5.852804</td>\n",
       "      <td>J. K. Rowling</td>\n",
       "      <td>2000</td>\n",
       "      <td>http://images.amazon.com/images/P/0786222743.0...</td>\n",
       "    </tr>\n",
       "    <tr>\n",
       "      <th>3</th>\n",
       "      <td>Harry Potter and the Goblet of Fire (Book 4)</td>\n",
       "      <td>387</td>\n",
       "      <td>5.824289</td>\n",
       "      <td>J. K. Rowling</td>\n",
       "      <td>2000</td>\n",
       "      <td>http://images.amazon.com/images/P/0439139597.0...</td>\n",
       "    </tr>\n",
       "    <tr>\n",
       "      <th>4</th>\n",
       "      <td>Harry Potter and the Goblet of Fire (Book 4)</td>\n",
       "      <td>387</td>\n",
       "      <td>5.824289</td>\n",
       "      <td>J. K. Rowling</td>\n",
       "      <td>2002</td>\n",
       "      <td>http://images.amazon.com/images/P/0439139600.0...</td>\n",
       "    </tr>\n",
       "    <tr>\n",
       "      <th>...</th>\n",
       "      <td>...</td>\n",
       "      <td>...</td>\n",
       "      <td>...</td>\n",
       "      <td>...</td>\n",
       "      <td>...</td>\n",
       "      <td>...</td>\n",
       "    </tr>\n",
       "    <tr>\n",
       "      <th>191</th>\n",
       "      <td>Lord of the Flies</td>\n",
       "      <td>259</td>\n",
       "      <td>3.818533</td>\n",
       "      <td>William G. Golding</td>\n",
       "      <td>1978</td>\n",
       "      <td>http://images.amazon.com/images/P/0698102193.0...</td>\n",
       "    </tr>\n",
       "    <tr>\n",
       "      <th>192</th>\n",
       "      <td>A Prayer for Owen Meany</td>\n",
       "      <td>413</td>\n",
       "      <td>3.796610</td>\n",
       "      <td>John Irving</td>\n",
       "      <td>1990</td>\n",
       "      <td>http://images.amazon.com/images/P/0345361792.0...</td>\n",
       "    </tr>\n",
       "    <tr>\n",
       "      <th>193</th>\n",
       "      <td>A Prayer for Owen Meany</td>\n",
       "      <td>413</td>\n",
       "      <td>3.796610</td>\n",
       "      <td>John Irving</td>\n",
       "      <td>1989</td>\n",
       "      <td>http://images.amazon.com/images/P/0345363523.0...</td>\n",
       "    </tr>\n",
       "    <tr>\n",
       "      <th>194</th>\n",
       "      <td>The Vampire Lestat (Vampire Chronicles, Book II)</td>\n",
       "      <td>301</td>\n",
       "      <td>3.777409</td>\n",
       "      <td>ANNE RICE</td>\n",
       "      <td>1986</td>\n",
       "      <td>http://images.amazon.com/images/P/0345313860.0...</td>\n",
       "    </tr>\n",
       "    <tr>\n",
       "      <th>195</th>\n",
       "      <td>White Oleander : A Novel (Oprah's Book Club)</td>\n",
       "      <td>356</td>\n",
       "      <td>3.772472</td>\n",
       "      <td>Janet Fitch</td>\n",
       "      <td>2000</td>\n",
       "      <td>http://images.amazon.com/images/P/0316284955.0...</td>\n",
       "    </tr>\n",
       "  </tbody>\n",
       "</table>\n",
       "<p>196 rows × 6 columns</p>\n",
       "</div>"
      ],
      "text/plain": [
       "                                                 title  num_rating  \\\n",
       "0    Harry Potter and the Prisoner of Azkaban (Book 3)         428   \n",
       "1    Harry Potter and the Prisoner of Azkaban (Book 3)         428   \n",
       "2    Harry Potter and the Prisoner of Azkaban (Book 3)         428   \n",
       "3         Harry Potter and the Goblet of Fire (Book 4)         387   \n",
       "4         Harry Potter and the Goblet of Fire (Book 4)         387   \n",
       "..                                                 ...         ...   \n",
       "191                                  Lord of the Flies         259   \n",
       "192                            A Prayer for Owen Meany         413   \n",
       "193                            A Prayer for Owen Meany         413   \n",
       "194   The Vampire Lestat (Vampire Chronicles, Book II)         301   \n",
       "195       White Oleander : A Novel (Oprah's Book Club)         356   \n",
       "\n",
       "     avg_rating              author year_of_pub  \\\n",
       "0      5.852804       J. K. Rowling        1999   \n",
       "1      5.852804       J. K. Rowling        2001   \n",
       "2      5.852804       J. K. Rowling        2000   \n",
       "3      5.824289       J. K. Rowling        2000   \n",
       "4      5.824289       J. K. Rowling        2002   \n",
       "..          ...                 ...         ...   \n",
       "191    3.818533  William G. Golding        1978   \n",
       "192    3.796610         John Irving        1990   \n",
       "193    3.796610         John Irving        1989   \n",
       "194    3.777409           ANNE RICE        1986   \n",
       "195    3.772472         Janet Fitch        2000   \n",
       "\n",
       "                                           Image-URL-M  \n",
       "0    http://images.amazon.com/images/P/0439136350.0...  \n",
       "1    http://images.amazon.com/images/P/0439136369.0...  \n",
       "2    http://images.amazon.com/images/P/0786222743.0...  \n",
       "3    http://images.amazon.com/images/P/0439139597.0...  \n",
       "4    http://images.amazon.com/images/P/0439139600.0...  \n",
       "..                                                 ...  \n",
       "191  http://images.amazon.com/images/P/0698102193.0...  \n",
       "192  http://images.amazon.com/images/P/0345361792.0...  \n",
       "193  http://images.amazon.com/images/P/0345363523.0...  \n",
       "194  http://images.amazon.com/images/P/0345313860.0...  \n",
       "195  http://images.amazon.com/images/P/0316284955.0...  \n",
       "\n",
       "[196 rows x 6 columns]"
      ]
     },
     "execution_count": 46,
     "metadata": {},
     "output_type": "execute_result"
    }
   ],
   "source": [
    "top_50_books\n"
   ]
  },
  {
   "cell_type": "code",
   "execution_count": 47,
   "id": "a6303c69",
   "metadata": {},
   "outputs": [
    {
     "data": {
      "text/plain": [
       "'http://images.amazon.com/images/P/0439136350.01.MZZZZZZZ.jpg'"
      ]
     },
     "execution_count": 47,
     "metadata": {},
     "output_type": "execute_result"
    }
   ],
   "source": [
    "top_50_books['Image-URL-M'][0]"
   ]
  },
  {
   "cell_type": "markdown",
   "id": "914eb047",
   "metadata": {},
   "source": [
    "#### Collaborative Book Recommendation System"
   ]
  },
  {
   "cell_type": "code",
   "execution_count": 48,
   "id": "6c9215a6",
   "metadata": {},
   "outputs": [
    {
     "data": {
      "text/plain": [
       "(1031129, 10)"
      ]
     },
     "execution_count": 48,
     "metadata": {},
     "output_type": "execute_result"
    }
   ],
   "source": [
    "books_with_ratings.shape"
   ]
  },
  {
   "cell_type": "code",
   "execution_count": 49,
   "id": "447b1848",
   "metadata": {},
   "outputs": [
    {
     "data": {
      "text/html": [
       "<div>\n",
       "<style scoped>\n",
       "    .dataframe tbody tr th:only-of-type {\n",
       "        vertical-align: middle;\n",
       "    }\n",
       "\n",
       "    .dataframe tbody tr th {\n",
       "        vertical-align: top;\n",
       "    }\n",
       "\n",
       "    .dataframe thead th {\n",
       "        text-align: right;\n",
       "    }\n",
       "</style>\n",
       "<table border=\"1\" class=\"dataframe\">\n",
       "  <thead>\n",
       "    <tr style=\"text-align: right;\">\n",
       "      <th></th>\n",
       "      <th>user_id</th>\n",
       "      <th>ISBN</th>\n",
       "      <th>rating</th>\n",
       "      <th>title</th>\n",
       "      <th>author</th>\n",
       "      <th>year_of_pub</th>\n",
       "      <th>publisher</th>\n",
       "      <th>Image-URL-S</th>\n",
       "      <th>Image-URL-M</th>\n",
       "      <th>Image-URL-L</th>\n",
       "    </tr>\n",
       "  </thead>\n",
       "  <tbody>\n",
       "    <tr>\n",
       "      <th>649114</th>\n",
       "      <td>30487</td>\n",
       "      <td>0671013882</td>\n",
       "      <td>8</td>\n",
       "      <td>The FAMILY MARKOWITZ</td>\n",
       "      <td>Allegra Goodman</td>\n",
       "      <td>1997</td>\n",
       "      <td>Washington Square Press</td>\n",
       "      <td>http://images.amazon.com/images/P/0671013882.0...</td>\n",
       "      <td>http://images.amazon.com/images/P/0671013882.0...</td>\n",
       "      <td>http://images.amazon.com/images/P/0671013882.0...</td>\n",
       "    </tr>\n",
       "    <tr>\n",
       "      <th>4329</th>\n",
       "      <td>193898</td>\n",
       "      <td>0446364193</td>\n",
       "      <td>0</td>\n",
       "      <td>Along Came a Spider (Alex Cross Novels)</td>\n",
       "      <td>James Patterson</td>\n",
       "      <td>1993</td>\n",
       "      <td>Warner Books</td>\n",
       "      <td>http://images.amazon.com/images/P/0446364193.0...</td>\n",
       "      <td>http://images.amazon.com/images/P/0446364193.0...</td>\n",
       "      <td>http://images.amazon.com/images/P/0446364193.0...</td>\n",
       "    </tr>\n",
       "    <tr>\n",
       "      <th>799165</th>\n",
       "      <td>114368</td>\n",
       "      <td>0758204280</td>\n",
       "      <td>5</td>\n",
       "      <td>Bad Boys on Board</td>\n",
       "      <td>Lori Foster</td>\n",
       "      <td>2003</td>\n",
       "      <td>BRAVA</td>\n",
       "      <td>http://images.amazon.com/images/P/0758204280.0...</td>\n",
       "      <td>http://images.amazon.com/images/P/0758204280.0...</td>\n",
       "      <td>http://images.amazon.com/images/P/0758204280.0...</td>\n",
       "    </tr>\n",
       "    <tr>\n",
       "      <th>295400</th>\n",
       "      <td>125039</td>\n",
       "      <td>0380725622</td>\n",
       "      <td>0</td>\n",
       "      <td>The Barn (Avon Camelot Books (Paperback))</td>\n",
       "      <td>Avi</td>\n",
       "      <td>1996</td>\n",
       "      <td>HarperTrophy</td>\n",
       "      <td>http://images.amazon.com/images/P/0380725622.0...</td>\n",
       "      <td>http://images.amazon.com/images/P/0380725622.0...</td>\n",
       "      <td>http://images.amazon.com/images/P/0380725622.0...</td>\n",
       "    </tr>\n",
       "    <tr>\n",
       "      <th>276140</th>\n",
       "      <td>31659</td>\n",
       "      <td>0140296409</td>\n",
       "      <td>6</td>\n",
       "      <td>Disgrace</td>\n",
       "      <td>J. M. Coetzee</td>\n",
       "      <td>2000</td>\n",
       "      <td>Penguin Books</td>\n",
       "      <td>http://images.amazon.com/images/P/0140296409.0...</td>\n",
       "      <td>http://images.amazon.com/images/P/0140296409.0...</td>\n",
       "      <td>http://images.amazon.com/images/P/0140296409.0...</td>\n",
       "    </tr>\n",
       "  </tbody>\n",
       "</table>\n",
       "</div>"
      ],
      "text/plain": [
       "        user_id        ISBN  rating  \\\n",
       "649114    30487  0671013882       8   \n",
       "4329     193898  0446364193       0   \n",
       "799165   114368  0758204280       5   \n",
       "295400   125039  0380725622       0   \n",
       "276140    31659  0140296409       6   \n",
       "\n",
       "                                            title           author  \\\n",
       "649114                       The FAMILY MARKOWITZ  Allegra Goodman   \n",
       "4329      Along Came a Spider (Alex Cross Novels)  James Patterson   \n",
       "799165                          Bad Boys on Board      Lori Foster   \n",
       "295400  The Barn (Avon Camelot Books (Paperback))              Avi   \n",
       "276140                                   Disgrace    J. M. Coetzee   \n",
       "\n",
       "       year_of_pub                publisher  \\\n",
       "649114        1997  Washington Square Press   \n",
       "4329          1993             Warner Books   \n",
       "799165        2003                    BRAVA   \n",
       "295400        1996             HarperTrophy   \n",
       "276140        2000            Penguin Books   \n",
       "\n",
       "                                              Image-URL-S  \\\n",
       "649114  http://images.amazon.com/images/P/0671013882.0...   \n",
       "4329    http://images.amazon.com/images/P/0446364193.0...   \n",
       "799165  http://images.amazon.com/images/P/0758204280.0...   \n",
       "295400  http://images.amazon.com/images/P/0380725622.0...   \n",
       "276140  http://images.amazon.com/images/P/0140296409.0...   \n",
       "\n",
       "                                              Image-URL-M  \\\n",
       "649114  http://images.amazon.com/images/P/0671013882.0...   \n",
       "4329    http://images.amazon.com/images/P/0446364193.0...   \n",
       "799165  http://images.amazon.com/images/P/0758204280.0...   \n",
       "295400  http://images.amazon.com/images/P/0380725622.0...   \n",
       "276140  http://images.amazon.com/images/P/0140296409.0...   \n",
       "\n",
       "                                              Image-URL-L  \n",
       "649114  http://images.amazon.com/images/P/0671013882.0...  \n",
       "4329    http://images.amazon.com/images/P/0446364193.0...  \n",
       "799165  http://images.amazon.com/images/P/0758204280.0...  \n",
       "295400  http://images.amazon.com/images/P/0380725622.0...  \n",
       "276140  http://images.amazon.com/images/P/0140296409.0...  "
      ]
     },
     "execution_count": 49,
     "metadata": {},
     "output_type": "execute_result"
    }
   ],
   "source": [
    "books_with_ratings.sample(5)"
   ]
  },
  {
   "cell_type": "code",
   "execution_count": 50,
   "id": "e7b93cc3",
   "metadata": {},
   "outputs": [
    {
     "data": {
      "text/html": [
       "<div>\n",
       "<style scoped>\n",
       "    .dataframe tbody tr th:only-of-type {\n",
       "        vertical-align: middle;\n",
       "    }\n",
       "\n",
       "    .dataframe tbody tr th {\n",
       "        vertical-align: top;\n",
       "    }\n",
       "\n",
       "    .dataframe thead th {\n",
       "        text-align: right;\n",
       "    }\n",
       "</style>\n",
       "<table border=\"1\" class=\"dataframe\">\n",
       "  <thead>\n",
       "    <tr style=\"text-align: right;\">\n",
       "      <th></th>\n",
       "      <th>ISBN</th>\n",
       "      <th>rating</th>\n",
       "      <th>title</th>\n",
       "      <th>author</th>\n",
       "      <th>year_of_pub</th>\n",
       "      <th>publisher</th>\n",
       "      <th>Image-URL-S</th>\n",
       "      <th>Image-URL-M</th>\n",
       "      <th>Image-URL-L</th>\n",
       "    </tr>\n",
       "    <tr>\n",
       "      <th>user_id</th>\n",
       "      <th></th>\n",
       "      <th></th>\n",
       "      <th></th>\n",
       "      <th></th>\n",
       "      <th></th>\n",
       "      <th></th>\n",
       "      <th></th>\n",
       "      <th></th>\n",
       "      <th></th>\n",
       "    </tr>\n",
       "  </thead>\n",
       "  <tbody>\n",
       "    <tr>\n",
       "      <th>2</th>\n",
       "      <td>1</td>\n",
       "      <td>1</td>\n",
       "      <td>1</td>\n",
       "      <td>1</td>\n",
       "      <td>1</td>\n",
       "      <td>1</td>\n",
       "      <td>1</td>\n",
       "      <td>1</td>\n",
       "      <td>1</td>\n",
       "    </tr>\n",
       "    <tr>\n",
       "      <th>8</th>\n",
       "      <td>17</td>\n",
       "      <td>17</td>\n",
       "      <td>17</td>\n",
       "      <td>17</td>\n",
       "      <td>17</td>\n",
       "      <td>17</td>\n",
       "      <td>17</td>\n",
       "      <td>17</td>\n",
       "      <td>17</td>\n",
       "    </tr>\n",
       "    <tr>\n",
       "      <th>9</th>\n",
       "      <td>3</td>\n",
       "      <td>3</td>\n",
       "      <td>3</td>\n",
       "      <td>3</td>\n",
       "      <td>3</td>\n",
       "      <td>3</td>\n",
       "      <td>3</td>\n",
       "      <td>3</td>\n",
       "      <td>3</td>\n",
       "    </tr>\n",
       "    <tr>\n",
       "      <th>10</th>\n",
       "      <td>1</td>\n",
       "      <td>1</td>\n",
       "      <td>1</td>\n",
       "      <td>1</td>\n",
       "      <td>1</td>\n",
       "      <td>1</td>\n",
       "      <td>1</td>\n",
       "      <td>1</td>\n",
       "      <td>1</td>\n",
       "    </tr>\n",
       "    <tr>\n",
       "      <th>12</th>\n",
       "      <td>1</td>\n",
       "      <td>1</td>\n",
       "      <td>1</td>\n",
       "      <td>1</td>\n",
       "      <td>1</td>\n",
       "      <td>1</td>\n",
       "      <td>1</td>\n",
       "      <td>1</td>\n",
       "      <td>1</td>\n",
       "    </tr>\n",
       "    <tr>\n",
       "      <th>...</th>\n",
       "      <td>...</td>\n",
       "      <td>...</td>\n",
       "      <td>...</td>\n",
       "      <td>...</td>\n",
       "      <td>...</td>\n",
       "      <td>...</td>\n",
       "      <td>...</td>\n",
       "      <td>...</td>\n",
       "      <td>...</td>\n",
       "    </tr>\n",
       "    <tr>\n",
       "      <th>278846</th>\n",
       "      <td>1</td>\n",
       "      <td>1</td>\n",
       "      <td>1</td>\n",
       "      <td>1</td>\n",
       "      <td>1</td>\n",
       "      <td>1</td>\n",
       "      <td>1</td>\n",
       "      <td>1</td>\n",
       "      <td>1</td>\n",
       "    </tr>\n",
       "    <tr>\n",
       "      <th>278849</th>\n",
       "      <td>4</td>\n",
       "      <td>4</td>\n",
       "      <td>4</td>\n",
       "      <td>4</td>\n",
       "      <td>4</td>\n",
       "      <td>4</td>\n",
       "      <td>4</td>\n",
       "      <td>4</td>\n",
       "      <td>4</td>\n",
       "    </tr>\n",
       "    <tr>\n",
       "      <th>278851</th>\n",
       "      <td>23</td>\n",
       "      <td>23</td>\n",
       "      <td>23</td>\n",
       "      <td>23</td>\n",
       "      <td>23</td>\n",
       "      <td>23</td>\n",
       "      <td>23</td>\n",
       "      <td>23</td>\n",
       "      <td>23</td>\n",
       "    </tr>\n",
       "    <tr>\n",
       "      <th>278852</th>\n",
       "      <td>1</td>\n",
       "      <td>1</td>\n",
       "      <td>1</td>\n",
       "      <td>1</td>\n",
       "      <td>1</td>\n",
       "      <td>1</td>\n",
       "      <td>1</td>\n",
       "      <td>1</td>\n",
       "      <td>1</td>\n",
       "    </tr>\n",
       "    <tr>\n",
       "      <th>278854</th>\n",
       "      <td>8</td>\n",
       "      <td>8</td>\n",
       "      <td>8</td>\n",
       "      <td>8</td>\n",
       "      <td>8</td>\n",
       "      <td>8</td>\n",
       "      <td>8</td>\n",
       "      <td>8</td>\n",
       "      <td>8</td>\n",
       "    </tr>\n",
       "  </tbody>\n",
       "</table>\n",
       "<p>92106 rows × 9 columns</p>\n",
       "</div>"
      ],
      "text/plain": [
       "         ISBN  rating  title  author  year_of_pub  publisher  Image-URL-S  \\\n",
       "user_id                                                                     \n",
       "2           1       1      1       1            1          1            1   \n",
       "8          17      17     17      17           17         17           17   \n",
       "9           3       3      3       3            3          3            3   \n",
       "10          1       1      1       1            1          1            1   \n",
       "12          1       1      1       1            1          1            1   \n",
       "...       ...     ...    ...     ...          ...        ...          ...   \n",
       "278846      1       1      1       1            1          1            1   \n",
       "278849      4       4      4       4            4          4            4   \n",
       "278851     23      23     23      23           23         23           23   \n",
       "278852      1       1      1       1            1          1            1   \n",
       "278854      8       8      8       8            8          8            8   \n",
       "\n",
       "         Image-URL-M  Image-URL-L  \n",
       "user_id                            \n",
       "2                  1            1  \n",
       "8                 17           17  \n",
       "9                  3            3  \n",
       "10                 1            1  \n",
       "12                 1            1  \n",
       "...              ...          ...  \n",
       "278846             1            1  \n",
       "278849             4            4  \n",
       "278851            23           23  \n",
       "278852             1            1  \n",
       "278854             8            8  \n",
       "\n",
       "[92106 rows x 9 columns]"
      ]
     },
     "execution_count": 50,
     "metadata": {},
     "output_type": "execute_result"
    }
   ],
   "source": [
    "books_with_ratings.groupby('user_id').count()"
   ]
  },
  {
   "cell_type": "code",
   "execution_count": 51,
   "id": "dd0a5123",
   "metadata": {},
   "outputs": [],
   "source": [
    "# we are selecting users who have rated more than 200 books\n",
    "rating_users = books_with_ratings.groupby('user_id').count()['rating']>200"
   ]
  },
  {
   "cell_type": "code",
   "execution_count": 52,
   "id": "981cad86",
   "metadata": {},
   "outputs": [
    {
     "data": {
      "text/plain": [
       "Int64Index([   254,   2276,   2766,   2977,   3363,   4017,   4385,   6251,\n",
       "              6323,   6543,\n",
       "            ...\n",
       "            271705, 273979, 274004, 274061, 274301, 274308, 275970, 277427,\n",
       "            277639, 278418],\n",
       "           dtype='int64', name='user_id', length=811)"
      ]
     },
     "execution_count": 52,
     "metadata": {},
     "output_type": "execute_result"
    }
   ],
   "source": [
    "rating_users = rating_users[rating_users].index\n",
    "rating_users"
   ]
  },
  {
   "cell_type": "code",
   "execution_count": 53,
   "id": "dfa431cc",
   "metadata": {},
   "outputs": [],
   "source": [
    "#filtering based on user\n",
    "filtered_rating = books_with_ratings[books_with_ratings['user_id'].isin(rating_users)]"
   ]
  },
  {
   "cell_type": "code",
   "execution_count": 54,
   "id": "bba6dece",
   "metadata": {},
   "outputs": [
    {
     "data": {
      "text/html": [
       "<div>\n",
       "<style scoped>\n",
       "    .dataframe tbody tr th:only-of-type {\n",
       "        vertical-align: middle;\n",
       "    }\n",
       "\n",
       "    .dataframe tbody tr th {\n",
       "        vertical-align: top;\n",
       "    }\n",
       "\n",
       "    .dataframe thead th {\n",
       "        text-align: right;\n",
       "    }\n",
       "</style>\n",
       "<table border=\"1\" class=\"dataframe\">\n",
       "  <thead>\n",
       "    <tr style=\"text-align: right;\">\n",
       "      <th></th>\n",
       "      <th>user_id</th>\n",
       "      <th>ISBN</th>\n",
       "      <th>rating</th>\n",
       "      <th>title</th>\n",
       "      <th>author</th>\n",
       "      <th>year_of_pub</th>\n",
       "      <th>publisher</th>\n",
       "      <th>Image-URL-S</th>\n",
       "      <th>Image-URL-M</th>\n",
       "      <th>Image-URL-L</th>\n",
       "    </tr>\n",
       "  </thead>\n",
       "  <tbody>\n",
       "    <tr>\n",
       "      <th>2</th>\n",
       "      <td>6543</td>\n",
       "      <td>034545104X</td>\n",
       "      <td>0</td>\n",
       "      <td>Flesh Tones: A Novel</td>\n",
       "      <td>M. J. Rose</td>\n",
       "      <td>2002</td>\n",
       "      <td>Ballantine Books</td>\n",
       "      <td>http://images.amazon.com/images/P/034545104X.0...</td>\n",
       "      <td>http://images.amazon.com/images/P/034545104X.0...</td>\n",
       "      <td>http://images.amazon.com/images/P/034545104X.0...</td>\n",
       "    </tr>\n",
       "    <tr>\n",
       "      <th>5</th>\n",
       "      <td>23768</td>\n",
       "      <td>034545104X</td>\n",
       "      <td>0</td>\n",
       "      <td>Flesh Tones: A Novel</td>\n",
       "      <td>M. J. Rose</td>\n",
       "      <td>2002</td>\n",
       "      <td>Ballantine Books</td>\n",
       "      <td>http://images.amazon.com/images/P/034545104X.0...</td>\n",
       "      <td>http://images.amazon.com/images/P/034545104X.0...</td>\n",
       "      <td>http://images.amazon.com/images/P/034545104X.0...</td>\n",
       "    </tr>\n",
       "    <tr>\n",
       "      <th>7</th>\n",
       "      <td>28523</td>\n",
       "      <td>034545104X</td>\n",
       "      <td>0</td>\n",
       "      <td>Flesh Tones: A Novel</td>\n",
       "      <td>M. J. Rose</td>\n",
       "      <td>2002</td>\n",
       "      <td>Ballantine Books</td>\n",
       "      <td>http://images.amazon.com/images/P/034545104X.0...</td>\n",
       "      <td>http://images.amazon.com/images/P/034545104X.0...</td>\n",
       "      <td>http://images.amazon.com/images/P/034545104X.0...</td>\n",
       "    </tr>\n",
       "    <tr>\n",
       "      <th>15</th>\n",
       "      <td>77940</td>\n",
       "      <td>034545104X</td>\n",
       "      <td>0</td>\n",
       "      <td>Flesh Tones: A Novel</td>\n",
       "      <td>M. J. Rose</td>\n",
       "      <td>2002</td>\n",
       "      <td>Ballantine Books</td>\n",
       "      <td>http://images.amazon.com/images/P/034545104X.0...</td>\n",
       "      <td>http://images.amazon.com/images/P/034545104X.0...</td>\n",
       "      <td>http://images.amazon.com/images/P/034545104X.0...</td>\n",
       "    </tr>\n",
       "    <tr>\n",
       "      <th>16</th>\n",
       "      <td>81977</td>\n",
       "      <td>034545104X</td>\n",
       "      <td>0</td>\n",
       "      <td>Flesh Tones: A Novel</td>\n",
       "      <td>M. J. Rose</td>\n",
       "      <td>2002</td>\n",
       "      <td>Ballantine Books</td>\n",
       "      <td>http://images.amazon.com/images/P/034545104X.0...</td>\n",
       "      <td>http://images.amazon.com/images/P/034545104X.0...</td>\n",
       "      <td>http://images.amazon.com/images/P/034545104X.0...</td>\n",
       "    </tr>\n",
       "  </tbody>\n",
       "</table>\n",
       "</div>"
      ],
      "text/plain": [
       "    user_id        ISBN  rating                 title      author year_of_pub  \\\n",
       "2      6543  034545104X       0  Flesh Tones: A Novel  M. J. Rose        2002   \n",
       "5     23768  034545104X       0  Flesh Tones: A Novel  M. J. Rose        2002   \n",
       "7     28523  034545104X       0  Flesh Tones: A Novel  M. J. Rose        2002   \n",
       "15    77940  034545104X       0  Flesh Tones: A Novel  M. J. Rose        2002   \n",
       "16    81977  034545104X       0  Flesh Tones: A Novel  M. J. Rose        2002   \n",
       "\n",
       "           publisher                                        Image-URL-S  \\\n",
       "2   Ballantine Books  http://images.amazon.com/images/P/034545104X.0...   \n",
       "5   Ballantine Books  http://images.amazon.com/images/P/034545104X.0...   \n",
       "7   Ballantine Books  http://images.amazon.com/images/P/034545104X.0...   \n",
       "15  Ballantine Books  http://images.amazon.com/images/P/034545104X.0...   \n",
       "16  Ballantine Books  http://images.amazon.com/images/P/034545104X.0...   \n",
       "\n",
       "                                          Image-URL-M  \\\n",
       "2   http://images.amazon.com/images/P/034545104X.0...   \n",
       "5   http://images.amazon.com/images/P/034545104X.0...   \n",
       "7   http://images.amazon.com/images/P/034545104X.0...   \n",
       "15  http://images.amazon.com/images/P/034545104X.0...   \n",
       "16  http://images.amazon.com/images/P/034545104X.0...   \n",
       "\n",
       "                                          Image-URL-L  \n",
       "2   http://images.amazon.com/images/P/034545104X.0...  \n",
       "5   http://images.amazon.com/images/P/034545104X.0...  \n",
       "7   http://images.amazon.com/images/P/034545104X.0...  \n",
       "15  http://images.amazon.com/images/P/034545104X.0...  \n",
       "16  http://images.amazon.com/images/P/034545104X.0...  "
      ]
     },
     "execution_count": 54,
     "metadata": {},
     "output_type": "execute_result"
    }
   ],
   "source": [
    "filtered_rating.head()"
   ]
  },
  {
   "cell_type": "code",
   "execution_count": 55,
   "id": "73d030c5",
   "metadata": {},
   "outputs": [],
   "source": [
    "#filtering based on books\n",
    "famous_books = filtered_rating.groupby('title').count()['rating']>=50"
   ]
  },
  {
   "cell_type": "code",
   "execution_count": 56,
   "id": "97e2f261",
   "metadata": {},
   "outputs": [],
   "source": [
    "famous_books = famous_books[famous_books].index"
   ]
  },
  {
   "cell_type": "code",
   "execution_count": 57,
   "id": "8d33005b",
   "metadata": {},
   "outputs": [
    {
     "data": {
      "text/plain": [
       "Index(['1984', '1st to Die: A Novel', '2nd Chance', '4 Blondes',\n",
       "       'A Bend in the Road', 'A Case of Need',\n",
       "       'A Child Called \\It\\\": One Child's Courage to Survive\"',\n",
       "       'A Civil Action', 'A Day Late and a Dollar Short', 'A Fine Balance',\n",
       "       ...\n",
       "       'Winter Solstice', 'Wish You Well', 'Without Remorse',\n",
       "       'Wizard and Glass (The Dark Tower, Book 4)', 'Wuthering Heights',\n",
       "       'Year of Wonders', 'You Belong To Me',\n",
       "       'Zen and the Art of Motorcycle Maintenance: An Inquiry into Values',\n",
       "       'Zoya', '\\O\\\" Is for Outlaw\"'],\n",
       "      dtype='object', name='title', length=706)"
      ]
     },
     "execution_count": 57,
     "metadata": {},
     "output_type": "execute_result"
    }
   ],
   "source": [
    "famous_books"
   ]
  },
  {
   "cell_type": "code",
   "execution_count": 58,
   "id": "077ea035",
   "metadata": {},
   "outputs": [],
   "source": [
    "#we are going to filter now \n",
    "final_rating = filtered_rating[filtered_rating['title'].isin(famous_books)]"
   ]
  },
  {
   "cell_type": "code",
   "execution_count": 59,
   "id": "aec37d56",
   "metadata": {},
   "outputs": [
    {
     "data": {
      "text/html": [
       "<div>\n",
       "<style scoped>\n",
       "    .dataframe tbody tr th:only-of-type {\n",
       "        vertical-align: middle;\n",
       "    }\n",
       "\n",
       "    .dataframe tbody tr th {\n",
       "        vertical-align: top;\n",
       "    }\n",
       "\n",
       "    .dataframe thead th {\n",
       "        text-align: right;\n",
       "    }\n",
       "</style>\n",
       "<table border=\"1\" class=\"dataframe\">\n",
       "  <thead>\n",
       "    <tr style=\"text-align: right;\">\n",
       "      <th></th>\n",
       "      <th>user_id</th>\n",
       "      <th>ISBN</th>\n",
       "      <th>rating</th>\n",
       "      <th>title</th>\n",
       "      <th>author</th>\n",
       "      <th>year_of_pub</th>\n",
       "      <th>publisher</th>\n",
       "      <th>Image-URL-S</th>\n",
       "      <th>Image-URL-M</th>\n",
       "      <th>Image-URL-L</th>\n",
       "    </tr>\n",
       "  </thead>\n",
       "  <tbody>\n",
       "    <tr>\n",
       "      <th>63</th>\n",
       "      <td>278418</td>\n",
       "      <td>0446520802</td>\n",
       "      <td>0</td>\n",
       "      <td>The Notebook</td>\n",
       "      <td>Nicholas Sparks</td>\n",
       "      <td>1996</td>\n",
       "      <td>Warner Books</td>\n",
       "      <td>http://images.amazon.com/images/P/0446520802.0...</td>\n",
       "      <td>http://images.amazon.com/images/P/0446520802.0...</td>\n",
       "      <td>http://images.amazon.com/images/P/0446520802.0...</td>\n",
       "    </tr>\n",
       "    <tr>\n",
       "      <th>65</th>\n",
       "      <td>3363</td>\n",
       "      <td>0446520802</td>\n",
       "      <td>0</td>\n",
       "      <td>The Notebook</td>\n",
       "      <td>Nicholas Sparks</td>\n",
       "      <td>1996</td>\n",
       "      <td>Warner Books</td>\n",
       "      <td>http://images.amazon.com/images/P/0446520802.0...</td>\n",
       "      <td>http://images.amazon.com/images/P/0446520802.0...</td>\n",
       "      <td>http://images.amazon.com/images/P/0446520802.0...</td>\n",
       "    </tr>\n",
       "    <tr>\n",
       "      <th>66</th>\n",
       "      <td>7158</td>\n",
       "      <td>0446520802</td>\n",
       "      <td>10</td>\n",
       "      <td>The Notebook</td>\n",
       "      <td>Nicholas Sparks</td>\n",
       "      <td>1996</td>\n",
       "      <td>Warner Books</td>\n",
       "      <td>http://images.amazon.com/images/P/0446520802.0...</td>\n",
       "      <td>http://images.amazon.com/images/P/0446520802.0...</td>\n",
       "      <td>http://images.amazon.com/images/P/0446520802.0...</td>\n",
       "    </tr>\n",
       "    <tr>\n",
       "      <th>69</th>\n",
       "      <td>11676</td>\n",
       "      <td>0446520802</td>\n",
       "      <td>10</td>\n",
       "      <td>The Notebook</td>\n",
       "      <td>Nicholas Sparks</td>\n",
       "      <td>1996</td>\n",
       "      <td>Warner Books</td>\n",
       "      <td>http://images.amazon.com/images/P/0446520802.0...</td>\n",
       "      <td>http://images.amazon.com/images/P/0446520802.0...</td>\n",
       "      <td>http://images.amazon.com/images/P/0446520802.0...</td>\n",
       "    </tr>\n",
       "    <tr>\n",
       "      <th>74</th>\n",
       "      <td>23768</td>\n",
       "      <td>0446520802</td>\n",
       "      <td>6</td>\n",
       "      <td>The Notebook</td>\n",
       "      <td>Nicholas Sparks</td>\n",
       "      <td>1996</td>\n",
       "      <td>Warner Books</td>\n",
       "      <td>http://images.amazon.com/images/P/0446520802.0...</td>\n",
       "      <td>http://images.amazon.com/images/P/0446520802.0...</td>\n",
       "      <td>http://images.amazon.com/images/P/0446520802.0...</td>\n",
       "    </tr>\n",
       "    <tr>\n",
       "      <th>...</th>\n",
       "      <td>...</td>\n",
       "      <td>...</td>\n",
       "      <td>...</td>\n",
       "      <td>...</td>\n",
       "      <td>...</td>\n",
       "      <td>...</td>\n",
       "      <td>...</td>\n",
       "      <td>...</td>\n",
       "      <td>...</td>\n",
       "      <td>...</td>\n",
       "    </tr>\n",
       "    <tr>\n",
       "      <th>1026717</th>\n",
       "      <td>266865</td>\n",
       "      <td>0531001725</td>\n",
       "      <td>10</td>\n",
       "      <td>The Catcher in the Rye</td>\n",
       "      <td>Jerome David Salinger</td>\n",
       "      <td>1973</td>\n",
       "      <td>Scholastic Library Pub</td>\n",
       "      <td>http://images.amazon.com/images/P/0531001725.0...</td>\n",
       "      <td>http://images.amazon.com/images/P/0531001725.0...</td>\n",
       "      <td>http://images.amazon.com/images/P/0531001725.0...</td>\n",
       "    </tr>\n",
       "    <tr>\n",
       "      <th>1027916</th>\n",
       "      <td>269566</td>\n",
       "      <td>0670809381</td>\n",
       "      <td>0</td>\n",
       "      <td>Echoes</td>\n",
       "      <td>Maeve Binchy</td>\n",
       "      <td>1986</td>\n",
       "      <td>Penguin USA</td>\n",
       "      <td>http://images.amazon.com/images/P/0670809381.0...</td>\n",
       "      <td>http://images.amazon.com/images/P/0670809381.0...</td>\n",
       "      <td>http://images.amazon.com/images/P/0670809381.0...</td>\n",
       "    </tr>\n",
       "    <tr>\n",
       "      <th>1028770</th>\n",
       "      <td>271284</td>\n",
       "      <td>0440910927</td>\n",
       "      <td>0</td>\n",
       "      <td>The Rainmaker</td>\n",
       "      <td>John Grisham</td>\n",
       "      <td>1995</td>\n",
       "      <td>Island</td>\n",
       "      <td>http://images.amazon.com/images/P/0440910927.0...</td>\n",
       "      <td>http://images.amazon.com/images/P/0440910927.0...</td>\n",
       "      <td>http://images.amazon.com/images/P/0440910927.0...</td>\n",
       "    </tr>\n",
       "    <tr>\n",
       "      <th>1029063</th>\n",
       "      <td>271705</td>\n",
       "      <td>B0001PIOX4</td>\n",
       "      <td>0</td>\n",
       "      <td>Fahrenheit 451</td>\n",
       "      <td>Ray Bradbury</td>\n",
       "      <td>1993</td>\n",
       "      <td>Simon &amp;amp; Schuster</td>\n",
       "      <td>http://images.amazon.com/images/P/B0001PIOX4.0...</td>\n",
       "      <td>http://images.amazon.com/images/P/B0001PIOX4.0...</td>\n",
       "      <td>http://images.amazon.com/images/P/B0001PIOX4.0...</td>\n",
       "    </tr>\n",
       "    <tr>\n",
       "      <th>1030861</th>\n",
       "      <td>275970</td>\n",
       "      <td>1586210661</td>\n",
       "      <td>9</td>\n",
       "      <td>Me Talk Pretty One Day</td>\n",
       "      <td>David Sedaris</td>\n",
       "      <td>2001</td>\n",
       "      <td>Time Warner Audio Major</td>\n",
       "      <td>http://images.amazon.com/images/P/1586210661.0...</td>\n",
       "      <td>http://images.amazon.com/images/P/1586210661.0...</td>\n",
       "      <td>http://images.amazon.com/images/P/1586210661.0...</td>\n",
       "    </tr>\n",
       "  </tbody>\n",
       "</table>\n",
       "<p>58586 rows × 10 columns</p>\n",
       "</div>"
      ],
      "text/plain": [
       "         user_id        ISBN  rating                   title  \\\n",
       "63        278418  0446520802       0            The Notebook   \n",
       "65          3363  0446520802       0            The Notebook   \n",
       "66          7158  0446520802      10            The Notebook   \n",
       "69         11676  0446520802      10            The Notebook   \n",
       "74         23768  0446520802       6            The Notebook   \n",
       "...          ...         ...     ...                     ...   \n",
       "1026717   266865  0531001725      10  The Catcher in the Rye   \n",
       "1027916   269566  0670809381       0                  Echoes   \n",
       "1028770   271284  0440910927       0           The Rainmaker   \n",
       "1029063   271705  B0001PIOX4       0          Fahrenheit 451   \n",
       "1030861   275970  1586210661       9  Me Talk Pretty One Day   \n",
       "\n",
       "                        author year_of_pub                publisher  \\\n",
       "63             Nicholas Sparks        1996             Warner Books   \n",
       "65             Nicholas Sparks        1996             Warner Books   \n",
       "66             Nicholas Sparks        1996             Warner Books   \n",
       "69             Nicholas Sparks        1996             Warner Books   \n",
       "74             Nicholas Sparks        1996             Warner Books   \n",
       "...                        ...         ...                      ...   \n",
       "1026717  Jerome David Salinger        1973   Scholastic Library Pub   \n",
       "1027916           Maeve Binchy        1986              Penguin USA   \n",
       "1028770           John Grisham        1995                   Island   \n",
       "1029063           Ray Bradbury        1993     Simon &amp; Schuster   \n",
       "1030861          David Sedaris        2001  Time Warner Audio Major   \n",
       "\n",
       "                                               Image-URL-S  \\\n",
       "63       http://images.amazon.com/images/P/0446520802.0...   \n",
       "65       http://images.amazon.com/images/P/0446520802.0...   \n",
       "66       http://images.amazon.com/images/P/0446520802.0...   \n",
       "69       http://images.amazon.com/images/P/0446520802.0...   \n",
       "74       http://images.amazon.com/images/P/0446520802.0...   \n",
       "...                                                    ...   \n",
       "1026717  http://images.amazon.com/images/P/0531001725.0...   \n",
       "1027916  http://images.amazon.com/images/P/0670809381.0...   \n",
       "1028770  http://images.amazon.com/images/P/0440910927.0...   \n",
       "1029063  http://images.amazon.com/images/P/B0001PIOX4.0...   \n",
       "1030861  http://images.amazon.com/images/P/1586210661.0...   \n",
       "\n",
       "                                               Image-URL-M  \\\n",
       "63       http://images.amazon.com/images/P/0446520802.0...   \n",
       "65       http://images.amazon.com/images/P/0446520802.0...   \n",
       "66       http://images.amazon.com/images/P/0446520802.0...   \n",
       "69       http://images.amazon.com/images/P/0446520802.0...   \n",
       "74       http://images.amazon.com/images/P/0446520802.0...   \n",
       "...                                                    ...   \n",
       "1026717  http://images.amazon.com/images/P/0531001725.0...   \n",
       "1027916  http://images.amazon.com/images/P/0670809381.0...   \n",
       "1028770  http://images.amazon.com/images/P/0440910927.0...   \n",
       "1029063  http://images.amazon.com/images/P/B0001PIOX4.0...   \n",
       "1030861  http://images.amazon.com/images/P/1586210661.0...   \n",
       "\n",
       "                                               Image-URL-L  \n",
       "63       http://images.amazon.com/images/P/0446520802.0...  \n",
       "65       http://images.amazon.com/images/P/0446520802.0...  \n",
       "66       http://images.amazon.com/images/P/0446520802.0...  \n",
       "69       http://images.amazon.com/images/P/0446520802.0...  \n",
       "74       http://images.amazon.com/images/P/0446520802.0...  \n",
       "...                                                    ...  \n",
       "1026717  http://images.amazon.com/images/P/0531001725.0...  \n",
       "1027916  http://images.amazon.com/images/P/0670809381.0...  \n",
       "1028770  http://images.amazon.com/images/P/0440910927.0...  \n",
       "1029063  http://images.amazon.com/images/P/B0001PIOX4.0...  \n",
       "1030861  http://images.amazon.com/images/P/1586210661.0...  \n",
       "\n",
       "[58586 rows x 10 columns]"
      ]
     },
     "execution_count": 59,
     "metadata": {},
     "output_type": "execute_result"
    }
   ],
   "source": [
    "#We will drop the duplicates in final_rating df, if it has any as books name is repeated\n",
    "final_rating.drop_duplicates()\n",
    "final_rating"
   ]
  },
  {
   "cell_type": "code",
   "execution_count": 60,
   "id": "2b22c8d2",
   "metadata": {},
   "outputs": [
    {
     "data": {
      "text/plain": [
       "(58586, 10)"
      ]
     },
     "execution_count": 60,
     "metadata": {},
     "output_type": "execute_result"
    }
   ],
   "source": [
    "final_rating.shape"
   ]
  },
  {
   "cell_type": "code",
   "execution_count": 63,
   "id": "7fd1655a",
   "metadata": {},
   "outputs": [],
   "source": [
    "pivot_df = final_rating.pivot_table(index ='title', columns='user_id', values='rating')"
   ]
  },
  {
   "cell_type": "code",
   "execution_count": 64,
   "id": "d81720a8",
   "metadata": {},
   "outputs": [],
   "source": [
    "pivot_df.fillna(0, inplace=True)"
   ]
  },
  {
   "cell_type": "code",
   "execution_count": 65,
   "id": "eaf12df7",
   "metadata": {},
   "outputs": [
    {
     "data": {
      "text/html": [
       "<div>\n",
       "<style scoped>\n",
       "    .dataframe tbody tr th:only-of-type {\n",
       "        vertical-align: middle;\n",
       "    }\n",
       "\n",
       "    .dataframe tbody tr th {\n",
       "        vertical-align: top;\n",
       "    }\n",
       "\n",
       "    .dataframe thead th {\n",
       "        text-align: right;\n",
       "    }\n",
       "</style>\n",
       "<table border=\"1\" class=\"dataframe\">\n",
       "  <thead>\n",
       "    <tr style=\"text-align: right;\">\n",
       "      <th>user_id</th>\n",
       "      <th>254</th>\n",
       "      <th>2276</th>\n",
       "      <th>2766</th>\n",
       "      <th>2977</th>\n",
       "      <th>3363</th>\n",
       "      <th>4017</th>\n",
       "      <th>4385</th>\n",
       "      <th>6251</th>\n",
       "      <th>6323</th>\n",
       "      <th>6543</th>\n",
       "      <th>...</th>\n",
       "      <th>271705</th>\n",
       "      <th>273979</th>\n",
       "      <th>274004</th>\n",
       "      <th>274061</th>\n",
       "      <th>274301</th>\n",
       "      <th>274308</th>\n",
       "      <th>275970</th>\n",
       "      <th>277427</th>\n",
       "      <th>277639</th>\n",
       "      <th>278418</th>\n",
       "    </tr>\n",
       "    <tr>\n",
       "      <th>title</th>\n",
       "      <th></th>\n",
       "      <th></th>\n",
       "      <th></th>\n",
       "      <th></th>\n",
       "      <th></th>\n",
       "      <th></th>\n",
       "      <th></th>\n",
       "      <th></th>\n",
       "      <th></th>\n",
       "      <th></th>\n",
       "      <th></th>\n",
       "      <th></th>\n",
       "      <th></th>\n",
       "      <th></th>\n",
       "      <th></th>\n",
       "      <th></th>\n",
       "      <th></th>\n",
       "      <th></th>\n",
       "      <th></th>\n",
       "      <th></th>\n",
       "      <th></th>\n",
       "    </tr>\n",
       "  </thead>\n",
       "  <tbody>\n",
       "    <tr>\n",
       "      <th>1984</th>\n",
       "      <td>9.0</td>\n",
       "      <td>0.0</td>\n",
       "      <td>0.0</td>\n",
       "      <td>0.0</td>\n",
       "      <td>0.0</td>\n",
       "      <td>0.0</td>\n",
       "      <td>0.0</td>\n",
       "      <td>0.0</td>\n",
       "      <td>0.0</td>\n",
       "      <td>0.0</td>\n",
       "      <td>...</td>\n",
       "      <td>10.0</td>\n",
       "      <td>0.0</td>\n",
       "      <td>0.0</td>\n",
       "      <td>0.0</td>\n",
       "      <td>0.0</td>\n",
       "      <td>0.0</td>\n",
       "      <td>0.0</td>\n",
       "      <td>0.0</td>\n",
       "      <td>0.0</td>\n",
       "      <td>0.0</td>\n",
       "    </tr>\n",
       "    <tr>\n",
       "      <th>1st to Die: A Novel</th>\n",
       "      <td>0.0</td>\n",
       "      <td>0.0</td>\n",
       "      <td>0.0</td>\n",
       "      <td>0.0</td>\n",
       "      <td>0.0</td>\n",
       "      <td>0.0</td>\n",
       "      <td>0.0</td>\n",
       "      <td>0.0</td>\n",
       "      <td>0.0</td>\n",
       "      <td>9.0</td>\n",
       "      <td>...</td>\n",
       "      <td>0.0</td>\n",
       "      <td>0.0</td>\n",
       "      <td>0.0</td>\n",
       "      <td>0.0</td>\n",
       "      <td>0.0</td>\n",
       "      <td>0.0</td>\n",
       "      <td>0.0</td>\n",
       "      <td>0.0</td>\n",
       "      <td>0.0</td>\n",
       "      <td>0.0</td>\n",
       "    </tr>\n",
       "    <tr>\n",
       "      <th>2nd Chance</th>\n",
       "      <td>0.0</td>\n",
       "      <td>10.0</td>\n",
       "      <td>0.0</td>\n",
       "      <td>0.0</td>\n",
       "      <td>0.0</td>\n",
       "      <td>0.0</td>\n",
       "      <td>0.0</td>\n",
       "      <td>0.0</td>\n",
       "      <td>0.0</td>\n",
       "      <td>0.0</td>\n",
       "      <td>...</td>\n",
       "      <td>0.0</td>\n",
       "      <td>0.0</td>\n",
       "      <td>0.0</td>\n",
       "      <td>0.0</td>\n",
       "      <td>0.0</td>\n",
       "      <td>0.0</td>\n",
       "      <td>0.0</td>\n",
       "      <td>0.0</td>\n",
       "      <td>0.0</td>\n",
       "      <td>0.0</td>\n",
       "    </tr>\n",
       "    <tr>\n",
       "      <th>4 Blondes</th>\n",
       "      <td>0.0</td>\n",
       "      <td>0.0</td>\n",
       "      <td>0.0</td>\n",
       "      <td>0.0</td>\n",
       "      <td>0.0</td>\n",
       "      <td>0.0</td>\n",
       "      <td>0.0</td>\n",
       "      <td>0.0</td>\n",
       "      <td>0.0</td>\n",
       "      <td>0.0</td>\n",
       "      <td>...</td>\n",
       "      <td>0.0</td>\n",
       "      <td>0.0</td>\n",
       "      <td>0.0</td>\n",
       "      <td>0.0</td>\n",
       "      <td>0.0</td>\n",
       "      <td>0.0</td>\n",
       "      <td>0.0</td>\n",
       "      <td>0.0</td>\n",
       "      <td>0.0</td>\n",
       "      <td>0.0</td>\n",
       "    </tr>\n",
       "    <tr>\n",
       "      <th>A Bend in the Road</th>\n",
       "      <td>0.0</td>\n",
       "      <td>0.0</td>\n",
       "      <td>7.0</td>\n",
       "      <td>0.0</td>\n",
       "      <td>0.0</td>\n",
       "      <td>0.0</td>\n",
       "      <td>0.0</td>\n",
       "      <td>0.0</td>\n",
       "      <td>0.0</td>\n",
       "      <td>0.0</td>\n",
       "      <td>...</td>\n",
       "      <td>0.0</td>\n",
       "      <td>0.0</td>\n",
       "      <td>0.0</td>\n",
       "      <td>0.0</td>\n",
       "      <td>0.0</td>\n",
       "      <td>0.0</td>\n",
       "      <td>0.0</td>\n",
       "      <td>0.0</td>\n",
       "      <td>0.0</td>\n",
       "      <td>0.0</td>\n",
       "    </tr>\n",
       "    <tr>\n",
       "      <th>...</th>\n",
       "      <td>...</td>\n",
       "      <td>...</td>\n",
       "      <td>...</td>\n",
       "      <td>...</td>\n",
       "      <td>...</td>\n",
       "      <td>...</td>\n",
       "      <td>...</td>\n",
       "      <td>...</td>\n",
       "      <td>...</td>\n",
       "      <td>...</td>\n",
       "      <td>...</td>\n",
       "      <td>...</td>\n",
       "      <td>...</td>\n",
       "      <td>...</td>\n",
       "      <td>...</td>\n",
       "      <td>...</td>\n",
       "      <td>...</td>\n",
       "      <td>...</td>\n",
       "      <td>...</td>\n",
       "      <td>...</td>\n",
       "      <td>...</td>\n",
       "    </tr>\n",
       "    <tr>\n",
       "      <th>Year of Wonders</th>\n",
       "      <td>0.0</td>\n",
       "      <td>0.0</td>\n",
       "      <td>0.0</td>\n",
       "      <td>7.0</td>\n",
       "      <td>0.0</td>\n",
       "      <td>0.0</td>\n",
       "      <td>0.0</td>\n",
       "      <td>0.0</td>\n",
       "      <td>0.0</td>\n",
       "      <td>0.0</td>\n",
       "      <td>...</td>\n",
       "      <td>0.0</td>\n",
       "      <td>9.0</td>\n",
       "      <td>0.0</td>\n",
       "      <td>0.0</td>\n",
       "      <td>0.0</td>\n",
       "      <td>0.0</td>\n",
       "      <td>0.0</td>\n",
       "      <td>0.0</td>\n",
       "      <td>0.0</td>\n",
       "      <td>0.0</td>\n",
       "    </tr>\n",
       "    <tr>\n",
       "      <th>You Belong To Me</th>\n",
       "      <td>0.0</td>\n",
       "      <td>0.0</td>\n",
       "      <td>0.0</td>\n",
       "      <td>0.0</td>\n",
       "      <td>0.0</td>\n",
       "      <td>0.0</td>\n",
       "      <td>0.0</td>\n",
       "      <td>0.0</td>\n",
       "      <td>0.0</td>\n",
       "      <td>0.0</td>\n",
       "      <td>...</td>\n",
       "      <td>0.0</td>\n",
       "      <td>0.0</td>\n",
       "      <td>0.0</td>\n",
       "      <td>0.0</td>\n",
       "      <td>0.0</td>\n",
       "      <td>0.0</td>\n",
       "      <td>0.0</td>\n",
       "      <td>0.0</td>\n",
       "      <td>0.0</td>\n",
       "      <td>0.0</td>\n",
       "    </tr>\n",
       "    <tr>\n",
       "      <th>Zen and the Art of Motorcycle Maintenance: An Inquiry into Values</th>\n",
       "      <td>0.0</td>\n",
       "      <td>0.0</td>\n",
       "      <td>0.0</td>\n",
       "      <td>0.0</td>\n",
       "      <td>0.0</td>\n",
       "      <td>0.0</td>\n",
       "      <td>0.0</td>\n",
       "      <td>0.0</td>\n",
       "      <td>0.0</td>\n",
       "      <td>0.0</td>\n",
       "      <td>...</td>\n",
       "      <td>0.0</td>\n",
       "      <td>0.0</td>\n",
       "      <td>0.0</td>\n",
       "      <td>0.0</td>\n",
       "      <td>0.0</td>\n",
       "      <td>0.0</td>\n",
       "      <td>0.0</td>\n",
       "      <td>0.0</td>\n",
       "      <td>0.0</td>\n",
       "      <td>0.0</td>\n",
       "    </tr>\n",
       "    <tr>\n",
       "      <th>Zoya</th>\n",
       "      <td>0.0</td>\n",
       "      <td>0.0</td>\n",
       "      <td>0.0</td>\n",
       "      <td>0.0</td>\n",
       "      <td>0.0</td>\n",
       "      <td>0.0</td>\n",
       "      <td>0.0</td>\n",
       "      <td>0.0</td>\n",
       "      <td>0.0</td>\n",
       "      <td>0.0</td>\n",
       "      <td>...</td>\n",
       "      <td>0.0</td>\n",
       "      <td>0.0</td>\n",
       "      <td>0.0</td>\n",
       "      <td>0.0</td>\n",
       "      <td>0.0</td>\n",
       "      <td>0.0</td>\n",
       "      <td>0.0</td>\n",
       "      <td>0.0</td>\n",
       "      <td>0.0</td>\n",
       "      <td>0.0</td>\n",
       "    </tr>\n",
       "    <tr>\n",
       "      <th>\\O\\\" Is for Outlaw\"</th>\n",
       "      <td>0.0</td>\n",
       "      <td>0.0</td>\n",
       "      <td>0.0</td>\n",
       "      <td>0.0</td>\n",
       "      <td>0.0</td>\n",
       "      <td>0.0</td>\n",
       "      <td>0.0</td>\n",
       "      <td>0.0</td>\n",
       "      <td>0.0</td>\n",
       "      <td>0.0</td>\n",
       "      <td>...</td>\n",
       "      <td>0.0</td>\n",
       "      <td>0.0</td>\n",
       "      <td>0.0</td>\n",
       "      <td>0.0</td>\n",
       "      <td>8.0</td>\n",
       "      <td>0.0</td>\n",
       "      <td>0.0</td>\n",
       "      <td>0.0</td>\n",
       "      <td>0.0</td>\n",
       "      <td>0.0</td>\n",
       "    </tr>\n",
       "  </tbody>\n",
       "</table>\n",
       "<p>706 rows × 810 columns</p>\n",
       "</div>"
      ],
      "text/plain": [
       "user_id                                             254     2276    2766    \\\n",
       "title                                                                        \n",
       "1984                                                   9.0     0.0     0.0   \n",
       "1st to Die: A Novel                                    0.0     0.0     0.0   \n",
       "2nd Chance                                             0.0    10.0     0.0   \n",
       "4 Blondes                                              0.0     0.0     0.0   \n",
       "A Bend in the Road                                     0.0     0.0     7.0   \n",
       "...                                                    ...     ...     ...   \n",
       "Year of Wonders                                        0.0     0.0     0.0   \n",
       "You Belong To Me                                       0.0     0.0     0.0   \n",
       "Zen and the Art of Motorcycle Maintenance: An I...     0.0     0.0     0.0   \n",
       "Zoya                                                   0.0     0.0     0.0   \n",
       "\\O\\\" Is for Outlaw\"                                    0.0     0.0     0.0   \n",
       "\n",
       "user_id                                             2977    3363    4017    \\\n",
       "title                                                                        \n",
       "1984                                                   0.0     0.0     0.0   \n",
       "1st to Die: A Novel                                    0.0     0.0     0.0   \n",
       "2nd Chance                                             0.0     0.0     0.0   \n",
       "4 Blondes                                              0.0     0.0     0.0   \n",
       "A Bend in the Road                                     0.0     0.0     0.0   \n",
       "...                                                    ...     ...     ...   \n",
       "Year of Wonders                                        7.0     0.0     0.0   \n",
       "You Belong To Me                                       0.0     0.0     0.0   \n",
       "Zen and the Art of Motorcycle Maintenance: An I...     0.0     0.0     0.0   \n",
       "Zoya                                                   0.0     0.0     0.0   \n",
       "\\O\\\" Is for Outlaw\"                                    0.0     0.0     0.0   \n",
       "\n",
       "user_id                                             4385    6251    6323    \\\n",
       "title                                                                        \n",
       "1984                                                   0.0     0.0     0.0   \n",
       "1st to Die: A Novel                                    0.0     0.0     0.0   \n",
       "2nd Chance                                             0.0     0.0     0.0   \n",
       "4 Blondes                                              0.0     0.0     0.0   \n",
       "A Bend in the Road                                     0.0     0.0     0.0   \n",
       "...                                                    ...     ...     ...   \n",
       "Year of Wonders                                        0.0     0.0     0.0   \n",
       "You Belong To Me                                       0.0     0.0     0.0   \n",
       "Zen and the Art of Motorcycle Maintenance: An I...     0.0     0.0     0.0   \n",
       "Zoya                                                   0.0     0.0     0.0   \n",
       "\\O\\\" Is for Outlaw\"                                    0.0     0.0     0.0   \n",
       "\n",
       "user_id                                             6543    ...  271705  \\\n",
       "title                                                       ...           \n",
       "1984                                                   0.0  ...    10.0   \n",
       "1st to Die: A Novel                                    9.0  ...     0.0   \n",
       "2nd Chance                                             0.0  ...     0.0   \n",
       "4 Blondes                                              0.0  ...     0.0   \n",
       "A Bend in the Road                                     0.0  ...     0.0   \n",
       "...                                                    ...  ...     ...   \n",
       "Year of Wonders                                        0.0  ...     0.0   \n",
       "You Belong To Me                                       0.0  ...     0.0   \n",
       "Zen and the Art of Motorcycle Maintenance: An I...     0.0  ...     0.0   \n",
       "Zoya                                                   0.0  ...     0.0   \n",
       "\\O\\\" Is for Outlaw\"                                    0.0  ...     0.0   \n",
       "\n",
       "user_id                                             273979  274004  274061  \\\n",
       "title                                                                        \n",
       "1984                                                   0.0     0.0     0.0   \n",
       "1st to Die: A Novel                                    0.0     0.0     0.0   \n",
       "2nd Chance                                             0.0     0.0     0.0   \n",
       "4 Blondes                                              0.0     0.0     0.0   \n",
       "A Bend in the Road                                     0.0     0.0     0.0   \n",
       "...                                                    ...     ...     ...   \n",
       "Year of Wonders                                        9.0     0.0     0.0   \n",
       "You Belong To Me                                       0.0     0.0     0.0   \n",
       "Zen and the Art of Motorcycle Maintenance: An I...     0.0     0.0     0.0   \n",
       "Zoya                                                   0.0     0.0     0.0   \n",
       "\\O\\\" Is for Outlaw\"                                    0.0     0.0     0.0   \n",
       "\n",
       "user_id                                             274301  274308  275970  \\\n",
       "title                                                                        \n",
       "1984                                                   0.0     0.0     0.0   \n",
       "1st to Die: A Novel                                    0.0     0.0     0.0   \n",
       "2nd Chance                                             0.0     0.0     0.0   \n",
       "4 Blondes                                              0.0     0.0     0.0   \n",
       "A Bend in the Road                                     0.0     0.0     0.0   \n",
       "...                                                    ...     ...     ...   \n",
       "Year of Wonders                                        0.0     0.0     0.0   \n",
       "You Belong To Me                                       0.0     0.0     0.0   \n",
       "Zen and the Art of Motorcycle Maintenance: An I...     0.0     0.0     0.0   \n",
       "Zoya                                                   0.0     0.0     0.0   \n",
       "\\O\\\" Is for Outlaw\"                                    8.0     0.0     0.0   \n",
       "\n",
       "user_id                                             277427  277639  278418  \n",
       "title                                                                       \n",
       "1984                                                   0.0     0.0     0.0  \n",
       "1st to Die: A Novel                                    0.0     0.0     0.0  \n",
       "2nd Chance                                             0.0     0.0     0.0  \n",
       "4 Blondes                                              0.0     0.0     0.0  \n",
       "A Bend in the Road                                     0.0     0.0     0.0  \n",
       "...                                                    ...     ...     ...  \n",
       "Year of Wonders                                        0.0     0.0     0.0  \n",
       "You Belong To Me                                       0.0     0.0     0.0  \n",
       "Zen and the Art of Motorcycle Maintenance: An I...     0.0     0.0     0.0  \n",
       "Zoya                                                   0.0     0.0     0.0  \n",
       "\\O\\\" Is for Outlaw\"                                    0.0     0.0     0.0  \n",
       "\n",
       "[706 rows x 810 columns]"
      ]
     },
     "execution_count": 65,
     "metadata": {},
     "output_type": "execute_result"
    }
   ],
   "source": [
    "pivot_df"
   ]
  },
  {
   "cell_type": "markdown",
   "id": "d1cd0de6",
   "metadata": {},
   "source": [
    "#### Cosine Similarity"
   ]
  },
  {
   "cell_type": "code",
   "execution_count": 66,
   "id": "eae93003",
   "metadata": {},
   "outputs": [],
   "source": [
    "from sklearn.metrics.pairwise import cosine_similarity"
   ]
  },
  {
   "cell_type": "code",
   "execution_count": 67,
   "id": "c81846b1",
   "metadata": {},
   "outputs": [
    {
     "data": {
      "text/plain": [
       "array([[1.        , 0.10255025, 0.01220856, ..., 0.12110367, 0.07347567,\n",
       "        0.04316046],\n",
       "       [0.10255025, 1.        , 0.2364573 , ..., 0.07446129, 0.16773875,\n",
       "        0.14263397],\n",
       "       [0.01220856, 0.2364573 , 1.        , ..., 0.04558758, 0.04938579,\n",
       "        0.10796119],\n",
       "       ...,\n",
       "       [0.12110367, 0.07446129, 0.04558758, ..., 1.        , 0.07085128,\n",
       "        0.0196177 ],\n",
       "       [0.07347567, 0.16773875, 0.04938579, ..., 0.07085128, 1.        ,\n",
       "        0.10602962],\n",
       "       [0.04316046, 0.14263397, 0.10796119, ..., 0.0196177 , 0.10602962,\n",
       "        1.        ]])"
      ]
     },
     "execution_count": 67,
     "metadata": {},
     "output_type": "execute_result"
    }
   ],
   "source": [
    "similarity_score = cosine_similarity(pivot_df)\n",
    "similarity_score"
   ]
  },
  {
   "cell_type": "code",
   "execution_count": 68,
   "id": "3725d984",
   "metadata": {},
   "outputs": [
    {
     "data": {
      "text/plain": [
       "array([1.        , 0.10255025, 0.01220856, 0.        , 0.05367224,\n",
       "       0.02774901, 0.08216491, 0.13732869, 0.03261686, 0.03667591,\n",
       "       0.02322418, 0.06766487, 0.02083978, 0.09673735, 0.13388865,\n",
       "       0.08303112, 0.11153543, 0.05100411, 0.02517784, 0.11706383,\n",
       "       0.        , 0.14333793, 0.07847534, 0.06150451, 0.08723968,\n",
       "       0.        , 0.07009814, 0.13658681, 0.07600328, 0.12167134,\n",
       "       0.00768046, 0.01473221, 0.        , 0.07965814, 0.04522617,\n",
       "       0.01556271, 0.09495938, 0.0182307 , 0.02610465, 0.07984012,\n",
       "       0.11679969, 0.0569124 , 0.08354155, 0.08471898, 0.08785938,\n",
       "       0.05491435, 0.0548505 , 0.27026514, 0.09779123, 0.06016046,\n",
       "       0.08958835, 0.06748675, 0.        , 0.04468098, 0.01920872,\n",
       "       0.        , 0.05629067, 0.00557964, 0.07877059, 0.05219479,\n",
       "       0.18908177, 0.        , 0.01240656, 0.02984572, 0.04279502,\n",
       "       0.12680125, 0.16566735, 0.        , 0.13357242, 0.06615478,\n",
       "       0.        , 0.        , 0.        , 0.10968075, 0.02806606,\n",
       "       0.04521795, 0.02613277, 0.06876131, 0.01331627, 0.10519138,\n",
       "       0.03349457, 0.01363458, 0.23669374, 0.        , 0.10397941,\n",
       "       0.06167753, 0.14176273, 0.11661083, 0.08331012, 0.00850895,\n",
       "       0.06715433, 0.        , 0.15850821, 0.0328052 , 0.01068915,\n",
       "       0.02579782, 0.02114859, 0.02687779, 0.02175821, 0.        ,\n",
       "       0.01601663, 0.12114266, 0.04768603, 0.05819184, 0.06510722,\n",
       "       0.        , 0.0476705 , 0.05273165, 0.0281001 , 0.06524573,\n",
       "       0.02116345, 0.02097868, 0.07422249, 0.01752778, 0.03734567,\n",
       "       0.        , 0.01579666, 0.11039448, 0.16527277, 0.15514319,\n",
       "       0.06237454, 0.08139489, 0.05655414, 0.07458203, 0.03771888,\n",
       "       0.0593633 , 0.02955369, 0.03355603, 0.04734093, 0.01006643,\n",
       "       0.01671982, 0.07258935, 0.        , 0.        , 0.        ,\n",
       "       0.02428501, 0.03067819, 0.0997498 , 0.        , 0.01690152,\n",
       "       0.02410862, 0.0281084 , 0.        , 0.        , 0.01812877,\n",
       "       0.02880827, 0.        , 0.05995157, 0.02127671, 0.1034119 ,\n",
       "       0.02766748, 0.10684795, 0.09898722, 0.14145186, 0.05007429,\n",
       "       0.09428289, 0.01411249, 0.        , 0.07835976, 0.00882242,\n",
       "       0.04515898, 0.        , 0.01281412, 0.04003334, 0.07477661,\n",
       "       0.01217906, 0.01887393, 0.02667484, 0.01432864, 0.14702847,\n",
       "       0.06087282, 0.02578321, 0.02741876, 0.        , 0.14909595,\n",
       "       0.05606788, 0.        , 0.03199916, 0.03643817, 0.        ,\n",
       "       0.01962921, 0.22222254, 0.01515845, 0.09673268, 0.02190023,\n",
       "       0.02013549, 0.05400331, 0.07262017, 0.01111637, 0.03649872,\n",
       "       0.05994664, 0.        , 0.14691167, 0.02086005, 0.10359635,\n",
       "       0.09794375, 0.06609997, 0.12871083, 0.08992739, 0.01147457,\n",
       "       0.02460165, 0.        , 0.18049207, 0.05141892, 0.0477174 ,\n",
       "       0.10849696, 0.13278139, 0.05915288, 0.05372984, 0.034785  ,\n",
       "       0.        , 0.09203039, 0.06388401, 0.04773328, 0.15570975,\n",
       "       0.08420691, 0.12338217, 0.0878469 , 0.08205945, 0.12177532,\n",
       "       0.02433703, 0.00272862, 0.        , 0.        , 0.03671505,\n",
       "       0.15280984, 0.0370943 , 0.07458136, 0.09746697, 0.05416091,\n",
       "       0.10266993, 0.07574414, 0.06426526, 0.0360174 , 0.01559752,\n",
       "       0.02033559, 0.02463593, 0.        , 0.03349154, 0.02135369,\n",
       "       0.0190337 , 0.06806265, 0.02032116, 0.11784706, 0.07839488,\n",
       "       0.08422558, 0.        , 0.02040796, 0.        , 0.04698246,\n",
       "       0.08294513, 0.13974514, 0.01234525, 0.13510608, 0.07423489,\n",
       "       0.11841889, 0.04930091, 0.01621668, 0.02633023, 0.04815972,\n",
       "       0.01959826, 0.10174253, 0.13257638, 0.        , 0.0551027 ,\n",
       "       0.0186115 , 0.        , 0.04504598, 0.03482459, 0.16503292,\n",
       "       0.08466191, 0.06795353, 0.02987653, 0.        , 0.        ,\n",
       "       0.08781993, 0.07885279, 0.04799058, 0.01467964, 0.02123837,\n",
       "       0.04549923, 0.08673969, 0.00885998, 0.02880637, 0.02022145,\n",
       "       0.02414122, 0.12548312, 0.        , 0.02482518, 0.06520606,\n",
       "       0.        , 0.0606983 , 0.01177824, 0.13974105, 0.01978844,\n",
       "       0.01260824, 0.08608601, 0.04433883, 0.02943085, 0.02242496,\n",
       "       0.06541868, 0.07866868, 0.14281399, 0.11979305, 0.01858409,\n",
       "       0.13445377, 0.04809338, 0.09790644, 0.        , 0.17415731,\n",
       "       0.07437756, 0.        , 0.12389065, 0.01042391, 0.02580849,\n",
       "       0.        , 0.0895139 , 0.04005551, 0.19182231, 0.02267512,\n",
       "       0.01730347, 0.03054044, 0.07008822, 0.10084626, 0.10467615,\n",
       "       0.01683462, 0.12468283, 0.10266459, 0.03549836, 0.02667484,\n",
       "       0.07652765, 0.08474056, 0.01831977, 0.02177482, 0.15293362,\n",
       "       0.        , 0.        , 0.01063251, 0.02153089, 0.02946443,\n",
       "       0.        , 0.02076783, 0.01194825, 0.00953675, 0.2067554 ,\n",
       "       0.01554292, 0.0390266 , 0.06681046, 0.09014973, 0.05914735,\n",
       "       0.06206857, 0.        , 0.02005959, 0.07843566, 0.16337845,\n",
       "       0.07161075, 0.        , 0.14595258, 0.07561631, 0.02939738,\n",
       "       0.04779629, 0.01807238, 0.11362722, 0.09791273, 0.07999693,\n",
       "       0.08912337, 0.10941777, 0.        , 0.02115842, 0.0600393 ,\n",
       "       0.01797154, 0.05755408, 0.02166863, 0.09754449, 0.13107652,\n",
       "       0.        , 0.06829904, 0.09132922, 0.        , 0.02781406,\n",
       "       0.01533368, 0.06113179, 0.01757286, 0.02471294, 0.0180158 ,\n",
       "       0.11789806, 0.06468143, 0.13904191, 0.        , 0.06671644,\n",
       "       0.        , 0.        , 0.05762086, 0.02266096, 0.00844876,\n",
       "       0.02297481, 0.07136276, 0.15305514, 0.06039874, 0.        ,\n",
       "       0.08996912, 0.01545947, 0.10135299, 0.        , 0.01676344,\n",
       "       0.        , 0.0502188 , 0.16041182, 0.        , 0.13439733,\n",
       "       0.12508514, 0.02329035, 0.0198727 , 0.01105674, 0.02548034,\n",
       "       0.00896044, 0.08246122, 0.01902896, 0.07025003, 0.0216367 ,\n",
       "       0.12822982, 0.09998772, 0.08642895, 0.06355197, 0.02883024,\n",
       "       0.04335826, 0.0470659 , 0.05223733, 0.        , 0.08982751,\n",
       "       0.00875634, 0.09923542, 0.10228551, 0.        , 0.12307492,\n",
       "       0.01758929, 0.02028125, 0.1033827 , 0.13028171, 0.08988894,\n",
       "       0.09005001, 0.05332049, 0.08033436, 0.04597795, 0.06139888,\n",
       "       0.02300709, 0.02304904, 0.06523041, 0.01915363, 0.        ,\n",
       "       0.04542766, 0.        , 0.        , 0.05261954, 0.01317088,\n",
       "       0.        , 0.        , 0.0485931 , 0.0734819 , 0.10354481,\n",
       "       0.01718807, 0.09919937, 0.08091989, 0.00358835, 0.04757132,\n",
       "       0.11122765, 0.05143481, 0.0566614 , 0.        , 0.06087719,\n",
       "       0.10800615, 0.        , 0.07554686, 0.        , 0.13644384,\n",
       "       0.04796763, 0.16104067, 0.        , 0.01759864, 0.05438295,\n",
       "       0.        , 0.08100801, 0.13090711, 0.00581844, 0.07150547,\n",
       "       0.05428487, 0.06143184, 0.05161653, 0.1951182 , 0.1149488 ,\n",
       "       0.06513047, 0.06401961, 0.        , 0.        , 0.10853662,\n",
       "       0.11400426, 0.0463925 , 0.01825277, 0.        , 0.01195201,\n",
       "       0.21057744, 0.05809707, 0.04349156, 0.02646256, 0.07276403,\n",
       "       0.05264857, 0.07242165, 0.06790898, 0.01626564, 0.02431809,\n",
       "       0.02093565, 0.13617057, 0.11784149, 0.08588206, 0.09284352,\n",
       "       0.11277297, 0.06868983, 0.08200947, 0.13369059, 0.        ,\n",
       "       0.19972625, 0.02286207, 0.0806288 , 0.        , 0.05756015,\n",
       "       0.06738056, 0.        , 0.19656288, 0.06306426, 0.03499381,\n",
       "       0.06123119, 0.09596456, 0.02180168, 0.02317515, 0.06476149,\n",
       "       0.07052241, 0.08280452, 0.1700872 , 0.07213921, 0.01172201,\n",
       "       0.08541218, 0.17990898, 0.08007284, 0.01739625, 0.16728777,\n",
       "       0.26396194, 0.1840891 , 0.05600273, 0.04133586, 0.06911015,\n",
       "       0.14456847, 0.22626397, 0.19208896, 0.0239334 , 0.20025064,\n",
       "       0.01507653, 0.05144282, 0.1233368 , 0.1420166 , 0.02472079,\n",
       "       0.08563805, 0.02363426, 0.12794024, 0.01083153, 0.07352436,\n",
       "       0.09532519, 0.03421895, 0.07194212, 0.02297079, 0.15344079,\n",
       "       0.08856302, 0.        , 0.        , 0.01878656, 0.09772942,\n",
       "       0.04404359, 0.15211972, 0.0152225 , 0.10307399, 0.05715789,\n",
       "       0.04600056, 0.06303899, 0.06572303, 0.14421331, 0.08272478,\n",
       "       0.        , 0.04203701, 0.02276077, 0.17381829, 0.01909967,\n",
       "       0.16000268, 0.14681486, 0.        , 0.05940546, 0.07725115,\n",
       "       0.07464763, 0.06546696, 0.07021577, 0.18921368, 0.02494136,\n",
       "       0.01705027, 0.05437622, 0.04932819, 0.        , 0.11445399,\n",
       "       0.08001595, 0.12858515, 0.02306658, 0.06129105, 0.02090769,\n",
       "       0.04550867, 0.1026659 , 0.10725982, 0.0260534 , 0.00173709,\n",
       "       0.0987294 , 0.08077482, 0.02159226, 0.01614275, 0.0208464 ,\n",
       "       0.09797466, 0.01906731, 0.18571699, 0.05344577, 0.18925314,\n",
       "       0.05894189, 0.01488161, 0.1202478 , 0.09840359, 0.01048126,\n",
       "       0.10596224, 0.07617195, 0.0805439 , 0.        , 0.23299389,\n",
       "       0.01073642, 0.13573542, 0.04578552, 0.14440017, 0.        ,\n",
       "       0.12522954, 0.0645501 , 0.02817522, 0.14445559, 0.01721045,\n",
       "       0.09508161, 0.0517902 , 0.18410818, 0.08704224, 0.10990764,\n",
       "       0.10850377, 0.03954865, 0.0383631 , 0.02463491, 0.07845405,\n",
       "       0.03455548, 0.03007681, 0.02484076, 0.04223674, 0.14444517,\n",
       "       0.12340234, 0.01510201, 0.0284437 , 0.02132016, 0.07391778,\n",
       "       0.08904276, 0.15893871, 0.06947574, 0.01060787, 0.        ,\n",
       "       0.09993169, 0.05711356, 0.09488374, 0.00948943, 0.13365876,\n",
       "       0.05794064, 0.        , 0.06721284, 0.02066998, 0.        ,\n",
       "       0.01839428, 0.        , 0.12655364, 0.08418288, 0.09095705,\n",
       "       0.00730589, 0.08143881, 0.        , 0.04218803, 0.08392849,\n",
       "       0.07785801, 0.        , 0.07151794, 0.02407593, 0.01635126,\n",
       "       0.03734567, 0.05237227, 0.01140169, 0.00968725, 0.12530648,\n",
       "       0.00909905, 0.05864096, 0.01769644, 0.12110367, 0.07347567,\n",
       "       0.04316046])"
      ]
     },
     "execution_count": 68,
     "metadata": {},
     "output_type": "execute_result"
    }
   ],
   "source": [
    "similarity_score[0]"
   ]
  },
  {
   "cell_type": "code",
   "execution_count": 69,
   "id": "51bee48e",
   "metadata": {},
   "outputs": [
    {
     "data": {
      "text/plain": [
       "(706, 706)"
      ]
     },
     "execution_count": 69,
     "metadata": {},
     "output_type": "execute_result"
    }
   ],
   "source": [
    "similarity_score.shape"
   ]
  },
  {
   "cell_type": "markdown",
   "id": "ba774f1d",
   "metadata": {},
   "source": [
    "#### Making the recommendation function :\n",
    "###### This function wil take a name of a book and suggest 5 books based on cosine similarity"
   ]
  },
  {
   "cell_type": "code",
   "execution_count": 70,
   "id": "0f24229e",
   "metadata": {},
   "outputs": [
    {
     "data": {
      "text/plain": [
       "[(47, 0.2702651417103732),\n",
       " (545, 0.2639619371123497),\n",
       " (82, 0.23669374347400993),\n",
       " (634, 0.23299389358170394),\n",
       " (551, 0.2262639743141286)]"
      ]
     },
     "execution_count": 70,
     "metadata": {},
     "output_type": "execute_result"
    }
   ],
   "source": [
    "#np.where(pivot_df.index=='1984')[0][0]\n",
    "#np.where(pivot_df.index=='Zoya')[0][0]\n",
    "\n",
    "\n",
    "#similarity_score[0] #we need to find top 6 books as highest score(1 st index would be book itself)\n",
    "#distances= similarity_score[index] #this would give similar score book indices\n",
    "#list(enumerate(similarity_score[0])) #enumearte to see distance and the index\n",
    "#sorted(list(enumerate(similarity_score[0])), key = lambda x: x[1])  #sorted on basis of second column \n",
    "#sorted(list(enumerate(similarity_score[0])), key = lambda x: x[1], reverse=True) # sorted in desending order\n",
    "sorted(list(enumerate(similarity_score[0])), key = lambda x: x[1], reverse=True)[1:6] #taking top 5 excluding top index which is book itself"
   ]
  },
  {
   "cell_type": "code",
   "execution_count": 71,
   "id": "b6254a49",
   "metadata": {},
   "outputs": [],
   "source": [
    "def recommend(book_name):\n",
    "    #fetch index\n",
    "    index = np.where(pivot_df.index== book_name)[0][0] #this will help us to find index of the book from the book name\n",
    "    #distances= similarity_score[index] #this would give similar score book indices \n",
    "    similar_items = sorted(list(enumerate(similarity_score[index])), key = lambda x: x[1], reverse=True)[1:6]\n",
    "    \n",
    "    for i in similar_items:\n",
    "        print(pivot_df.index[i[0]]) #this will give the name of the book from the index\n",
    "#    return suggestion"
   ]
  },
  {
   "cell_type": "code",
   "execution_count": 72,
   "id": "08661a1a",
   "metadata": {},
   "outputs": [
    {
     "name": "stdout",
     "output_type": "stream",
     "text": [
      "Animal Farm\n",
      "The Handmaid's Tale\n",
      "Brave New World\n",
      "The Vampire Lestat (Vampire Chronicles, Book II)\n",
      "The Hours : A Novel\n"
     ]
    }
   ],
   "source": [
    "recommend('1984') # testing the function"
   ]
  },
  {
   "cell_type": "code",
   "execution_count": 98,
   "id": "299d029e",
   "metadata": {},
   "outputs": [],
   "source": [
    "# building the function which wil return name and image of the suggested books\n",
    "def recommend(book_name):\n",
    "    # index fetch\n",
    "    index = np.where(pivot_df.index==book_name)[0][0]\n",
    "    similar_items = sorted(list(enumerate(similarity_score[index])),key=lambda x:x[1],reverse=True)[1:6]\n",
    "    \n",
    "    data = []\n",
    "    for i in similar_items:\n",
    "        item = []\n",
    "        temp_df = books[books['title'] == pivot_df.index[i[0]]]\n",
    "        item.extend(list(temp_df.drop_duplicates('title')['title'].values))\n",
    "        item.extend(list(temp_df.drop_duplicates('title')['author'].values))\n",
    "        item.extend(list(temp_df.drop_duplicates('title')['Image-URL-M'].values))\n",
    "        \n",
    "        data.append(item)\n",
    "    \n",
    "    return data"
   ]
  },
  {
   "cell_type": "code",
   "execution_count": 190,
   "id": "e8d3679e",
   "metadata": {},
   "outputs": [],
   "source": [
    "# building the function which wil return name and image of the suggested books\n",
    "def recommend(book_name):\n",
    "    # index fetch\n",
    "    index = np.where(pivot_df.index==book_name)[0][0]\n",
    "    similar_items = sorted(list(enumerate(similarity_score[index])),key=lambda x:x[1],reverse=True)[1:6]\n",
    "    \n",
    "    data = []\n",
    "    for i in similar_items:\n",
    "        item = []\n",
    "        temp_df = books[books['title'] == pivot_df.index[i[0]]]\n",
    "        item.extend(list(temp_df.drop_duplicates('title')['title'].values))\n",
    "        item.extend(list(temp_df.drop_duplicates('title')['author'].values))\n",
    "        item.extend(list(temp_df.drop_duplicates('title')['Image-URL-M'].values))\n",
    "        \n",
    "        data.append(item)\n",
    "    \n",
    "    return data"
   ]
  },
  {
   "cell_type": "code",
   "execution_count": 191,
   "id": "d490a4f6",
   "metadata": {},
   "outputs": [
    {
     "data": {
      "text/plain": [
       "[['The Glass Lake',\n",
       "  'Maeve Binchy',\n",
       "  'http://images.amazon.com/images/P/0440221595.01.MZZZZZZZ.jpg'],\n",
       " [\"Angela's Ashes (MMP) : A Memoir\",\n",
       "  'Frank McCourt',\n",
       "  'http://images.amazon.com/images/P/0684872153.01.MZZZZZZZ.jpg'],\n",
       " ['The Return Journey',\n",
       "  'MAEVE BINCHY',\n",
       "  'http://images.amazon.com/images/P/0440224594.01.MZZZZZZZ.jpg'],\n",
       " ['Harvest',\n",
       "  'BELVA PLAIN',\n",
       "  'http://images.amazon.com/images/P/0440208912.01.MZZZZZZZ.jpg'],\n",
       " ['The Copper Beech',\n",
       "  'Maeve Binchy',\n",
       "  'http://images.amazon.com/images/P/0440213290.01.MZZZZZZZ.jpg']]"
      ]
     },
     "execution_count": 191,
     "metadata": {},
     "output_type": "execute_result"
    }
   ],
   "source": [
    "recommend('Echoes')"
   ]
  },
  {
   "cell_type": "code",
   "execution_count": 99,
   "id": "195c3a11",
   "metadata": {},
   "outputs": [
    {
     "data": {
      "text/plain": [
       "[['The Glass Lake',\n",
       "  'Maeve Binchy',\n",
       "  'http://images.amazon.com/images/P/0440221595.01.MZZZZZZZ.jpg'],\n",
       " [\"Angela's Ashes (MMP) : A Memoir\",\n",
       "  'Frank McCourt',\n",
       "  'http://images.amazon.com/images/P/0684872153.01.MZZZZZZZ.jpg'],\n",
       " ['The Return Journey',\n",
       "  'MAEVE BINCHY',\n",
       "  'http://images.amazon.com/images/P/0440224594.01.MZZZZZZZ.jpg'],\n",
       " ['Harvest',\n",
       "  'BELVA PLAIN',\n",
       "  'http://images.amazon.com/images/P/0440208912.01.MZZZZZZZ.jpg'],\n",
       " ['The Copper Beech',\n",
       "  'Maeve Binchy',\n",
       "  'http://images.amazon.com/images/P/0440213290.01.MZZZZZZZ.jpg']]"
      ]
     },
     "execution_count": 99,
     "metadata": {},
     "output_type": "execute_result"
    }
   ],
   "source": [
    "#recommend('Zoya') # testing the function\\\n",
    "recommend('Echoes')"
   ]
  },
  {
   "cell_type": "code",
   "execution_count": 106,
   "id": "2bdfffaf",
   "metadata": {},
   "outputs": [
    {
     "data": {
      "text/plain": [
       "[['Animal Farm',\n",
       "  'George Orwell',\n",
       "  'http://images.amazon.com/images/P/0451526341.01.MZZZZZZZ.jpg'],\n",
       " [\"The Handmaid's Tale\",\n",
       "  'Margaret Atwood',\n",
       "  'http://images.amazon.com/images/P/0449212602.01.MZZZZZZZ.jpg'],\n",
       " ['Brave New World',\n",
       "  'Aldous Huxley',\n",
       "  'http://images.amazon.com/images/P/0060809833.01.MZZZZZZZ.jpg'],\n",
       " ['The Vampire Lestat (Vampire Chronicles, Book II)',\n",
       "  'ANNE RICE',\n",
       "  'http://images.amazon.com/images/P/0345313860.01.MZZZZZZZ.jpg'],\n",
       " ['The Hours : A Novel',\n",
       "  'Michael Cunningham',\n",
       "  'http://images.amazon.com/images/P/0312243022.01.MZZZZZZZ.jpg']]"
      ]
     },
     "execution_count": 106,
     "metadata": {},
     "output_type": "execute_result"
    }
   ],
   "source": [
    "recommend('1984')"
   ]
  },
  {
   "cell_type": "code",
   "execution_count": 104,
   "id": "a0c35c82",
   "metadata": {},
   "outputs": [
    {
     "data": {
      "text/plain": [
       "\"The Handmaid's Tale\""
      ]
     },
     "execution_count": 104,
     "metadata": {},
     "output_type": "execute_result"
    }
   ],
   "source": [
    "pivot_df.index[545]"
   ]
  },
  {
   "cell_type": "code",
   "execution_count": 78,
   "id": "a2e51727",
   "metadata": {},
   "outputs": [],
   "source": [
    "#books.drop_duplicates('title')"
   ]
  },
  {
   "cell_type": "markdown",
   "id": "62ce5e21",
   "metadata": {},
   "source": [
    "##### Pickled files"
   ]
  },
  {
   "cell_type": "code",
   "execution_count": 77,
   "id": "8322a66f",
   "metadata": {},
   "outputs": [],
   "source": [
    "#Pickling all the data files \n",
    "pickle.dump(top_50_books,open('top_50_popular_books.pkl','wb'))"
   ]
  },
  {
   "cell_type": "code",
   "execution_count": 62,
   "id": "11fd97ab",
   "metadata": {},
   "outputs": [],
   "source": [
    "pickle.dump(final_rating,open('final_rating_data.pkl','wb'))"
   ]
  },
  {
   "cell_type": "code",
   "execution_count": 112,
   "id": "6e719da2",
   "metadata": {},
   "outputs": [],
   "source": [
    "books_data_new = books.copy()"
   ]
  },
  {
   "cell_type": "code",
   "execution_count": 114,
   "id": "55f384eb",
   "metadata": {},
   "outputs": [],
   "source": [
    "#books_data_new is the copied books file which has no duplicate and 'NA'/'NUll' values\n",
    "pickle.dump(books_data_new,open('books_data_new','wb'))"
   ]
  },
  {
   "cell_type": "code",
   "execution_count": 79,
   "id": "875a527c",
   "metadata": {},
   "outputs": [],
   "source": [
    "pickle.dump(pivot_df,open('pivot_df.pkl','wb'))\n",
    "pickle.dump(books,open('books.pkl','wb'))\n",
    "pickle.dump(similarity_score,open('similarity_score.pkl','wb'))"
   ]
  },
  {
   "cell_type": "markdown",
   "id": "9d3f63c7",
   "metadata": {},
   "source": [
    "##### Recommender Model"
   ]
  },
  {
   "cell_type": "code",
   "execution_count": 166,
   "id": "326a7b41",
   "metadata": {},
   "outputs": [],
   "source": [
    "def recommend(book_name):\n",
    "    # index fetch\n",
    "    index = np.where(pivot_df.index==book_name)[0][0]\n",
    "    similar_items = sorted(list(enumerate(similarity_score[index])),key=lambda x:x[1],reverse=True)[1:6]\n",
    "    \n",
    "    data = []\n",
    "    for i in similar_items:\n",
    "        item = []\n",
    "        temp_df = books[books['title'] == pivot_df.index[i[0]]]\n",
    "        item.extend(list(temp_df.drop_duplicates('title')['title'].values))\n",
    "        #item.extend(list(temp_df.drop_duplicates('title')['author'].values))\n",
    "        item.extend(list(temp_df.drop_duplicates('title')['Image-URL-M'].values))\n",
    "        \n",
    "        data.append(item)\n",
    "    \n",
    "    return data"
   ]
  },
  {
   "cell_type": "code",
   "execution_count": 167,
   "id": "569db9fd",
   "metadata": {},
   "outputs": [
    {
     "data": {
      "text/plain": [
       "[['Animal Farm',\n",
       "  'http://images.amazon.com/images/P/0451526341.01.MZZZZZZZ.jpg'],\n",
       " [\"The Handmaid's Tale\",\n",
       "  'http://images.amazon.com/images/P/0449212602.01.MZZZZZZZ.jpg'],\n",
       " ['Brave New World',\n",
       "  'http://images.amazon.com/images/P/0060809833.01.MZZZZZZZ.jpg'],\n",
       " ['The Vampire Lestat (Vampire Chronicles, Book II)',\n",
       "  'http://images.amazon.com/images/P/0345313860.01.MZZZZZZZ.jpg'],\n",
       " ['The Hours : A Novel',\n",
       "  'http://images.amazon.com/images/P/0312243022.01.MZZZZZZZ.jpg']]"
      ]
     },
     "execution_count": 167,
     "metadata": {},
     "output_type": "execute_result"
    }
   ],
   "source": [
    "recommend('1984')"
   ]
  },
  {
   "cell_type": "code",
   "execution_count": 168,
   "id": "30c02064",
   "metadata": {},
   "outputs": [
    {
     "data": {
      "text/plain": [
       "[['The Stone Diaries',\n",
       "  'http://images.amazon.com/images/P/014023313X.01.MZZZZZZZ.jpg'],\n",
       " ['Girl with a Pearl Earring',\n",
       "  'http://images.amazon.com/images/P/0452282152.01.MZZZZZZZ.jpg'],\n",
       " ['Echoes', 'http://images.amazon.com/images/P/0440122090.01.MZZZZZZZ.jpg'],\n",
       " ['The Shipping News : A Novel',\n",
       "  'http://images.amazon.com/images/P/0743225406.01.MZZZZZZZ.jpg'],\n",
       " ['Dragonfly in Amber',\n",
       "  'http://images.amazon.com/images/P/0440215625.01.MZZZZZZZ.jpg']]"
      ]
     },
     "execution_count": 168,
     "metadata": {},
     "output_type": "execute_result"
    }
   ],
   "source": [
    "recommend('Falling Angels')"
   ]
  },
  {
   "cell_type": "markdown",
   "id": "a0115db2",
   "metadata": {},
   "source": [
    "##### Streamlit code to populate similar books with images"
   ]
  },
  {
   "cell_type": "code",
   "execution_count": 169,
   "id": "0411bf07",
   "metadata": {},
   "outputs": [
    {
     "name": "stdout",
     "output_type": "stream",
     "text": [
      "Animal Farm\n",
      "http://images.amazon.com/images/P/0451526341.01.MZZZZZZZ.jpg\n",
      "The Handmaid's Tale\n",
      "http://images.amazon.com/images/P/0449212602.01.MZZZZZZZ.jpg\n",
      "Brave New World\n",
      "http://images.amazon.com/images/P/0060809833.01.MZZZZZZZ.jpg\n",
      "The Vampire Lestat (Vampire Chronicles, Book II)\n",
      "http://images.amazon.com/images/P/0345313860.01.MZZZZZZZ.jpg\n",
      "The Hours : A Novel\n",
      "http://images.amazon.com/images/P/0312243022.01.MZZZZZZZ.jpg\n"
     ]
    }
   ],
   "source": [
    "print(recommend('1984')[0][0])\n",
    "print(recommend('1984')[0][1])\n",
    "print(recommend('1984')[1][0])\n",
    "print(recommend('1984')[1][1])\n",
    "print(recommend('1984')[2][0])\n",
    "print(recommend('1984')[2][1])\n",
    "print(recommend('1984')[3][0])\n",
    "print(recommend('1984')[3][1])\n",
    "print(recommend('1984')[4][0])\n",
    "print(recommend('1984')[4][1])"
   ]
  },
  {
   "cell_type": "code",
   "execution_count": 165,
   "id": "9f7db855",
   "metadata": {},
   "outputs": [
    {
     "name": "stdout",
     "output_type": "stream",
     "text": [
      "['Animal Farm', 'http://images.amazon.com/images/P/0451526341.01.MZZZZZZZ.jpg']\n",
      "[\"The Handmaid's Tale\", 'http://images.amazon.com/images/P/0449212602.01.MZZZZZZZ.jpg']\n"
     ]
    }
   ],
   "source": [
    "print(recommend('1984')[0])\n",
    "print(recommend('1984')[1])"
   ]
  },
  {
   "cell_type": "code",
   "execution_count": null,
   "id": "74dbb69d",
   "metadata": {},
   "outputs": [],
   "source": []
  },
  {
   "cell_type": "code",
   "execution_count": null,
   "id": "2f777500",
   "metadata": {},
   "outputs": [],
   "source": [
    " if st.button('Recommend'):\n",
    "        recommended_book_names = recommend(Book_selected)\n",
    "        col1,col2,col3 = st.columns(3)\n",
    "        with col1:\n",
    "            st.text(recommended_book_names[0][0])\n",
    "            st.image(images[recommended_book_names[0][0]])\n",
    "        with col2:\n",
    "            st.text(recommended_book_names[0][1])\n",
    "            st.image(images[recommended_book_names[0][1]])\n",
    "        with col3:\n",
    "            st.text(recommended_book_names[0][2])\n",
    "            st.image(images[recommended_book_names[0][2]])"
   ]
  },
  {
   "cell_type": "code",
   "execution_count": 170,
   "id": "91e65f4d",
   "metadata": {},
   "outputs": [],
   "source": [
    "recommended_book_names = recommend('1984')"
   ]
  },
  {
   "cell_type": "code",
   "execution_count": 181,
   "id": "9017ef81",
   "metadata": {},
   "outputs": [
    {
     "name": "stdout",
     "output_type": "stream",
     "text": [
      "The Vampire Lestat (Vampire Chronicles, Book II)\n",
      "http://images.amazon.com/images/P/0345313860.01.MZZZZZZZ.jpg\n"
     ]
    }
   ],
   "source": [
    "print(recommended_book_names[3][0])\n",
    "print(recommended_book_names[3][1])"
   ]
  },
  {
   "cell_type": "code",
   "execution_count": 184,
   "id": "bd50dbbd",
   "metadata": {},
   "outputs": [
    {
     "ename": "NameError",
     "evalue": "name 'Book_name' is not defined",
     "output_type": "error",
     "traceback": [
      "\u001b[1;31m---------------------------------------------------------------------------\u001b[0m",
      "\u001b[1;31mNameError\u001b[0m                                 Traceback (most recent call last)",
      "\u001b[1;32m<ipython-input-184-bae99e169edd>\u001b[0m in \u001b[0;36m<module>\u001b[1;34m\u001b[0m\n\u001b[1;32m----> 1\u001b[1;33m \u001b[0mindex\u001b[0m \u001b[1;33m=\u001b[0m \u001b[0mnp\u001b[0m\u001b[1;33m.\u001b[0m\u001b[0mwhere\u001b[0m\u001b[1;33m(\u001b[0m\u001b[0mpivot_df\u001b[0m\u001b[1;33m.\u001b[0m\u001b[0mindex\u001b[0m\u001b[1;33m==\u001b[0m\u001b[0mBook_name\u001b[0m\u001b[1;33m)\u001b[0m\u001b[1;33m[\u001b[0m\u001b[1;36m0\u001b[0m\u001b[1;33m]\u001b[0m\u001b[1;33m[\u001b[0m\u001b[1;36m0\u001b[0m\u001b[1;33m]\u001b[0m\u001b[1;33m\u001b[0m\u001b[1;33m\u001b[0m\u001b[0m\n\u001b[0m",
      "\u001b[1;31mNameError\u001b[0m: name 'Book_name' is not defined"
     ]
    }
   ],
   "source": [
    " index = np.where(pivot_df.index==Book_name)[0][0]"
   ]
  },
  {
   "cell_type": "code",
   "execution_count": 195,
   "id": "ab02e832",
   "metadata": {},
   "outputs": [
    {
     "ename": "IndexError",
     "evalue": "index 0 is out of bounds for axis 0 with size 0",
     "output_type": "error",
     "traceback": [
      "\u001b[1;31m---------------------------------------------------------------------------\u001b[0m",
      "\u001b[1;31mIndexError\u001b[0m                                Traceback (most recent call last)",
      "\u001b[1;32m<ipython-input-195-294810c7e590>\u001b[0m in \u001b[0;36m<module>\u001b[1;34m\u001b[0m\n\u001b[1;32m----> 1\u001b[1;33m \u001b[0mrecommend\u001b[0m\u001b[1;33m(\u001b[0m\u001b[1;34m'Grave Undertaking'\u001b[0m\u001b[1;33m)\u001b[0m\u001b[1;33m\u001b[0m\u001b[1;33m\u001b[0m\u001b[0m\n\u001b[0m",
      "\u001b[1;32m<ipython-input-190-77d21a5e774b>\u001b[0m in \u001b[0;36mrecommend\u001b[1;34m(book_name)\u001b[0m\n\u001b[0;32m      2\u001b[0m \u001b[1;32mdef\u001b[0m \u001b[0mrecommend\u001b[0m\u001b[1;33m(\u001b[0m\u001b[0mbook_name\u001b[0m\u001b[1;33m)\u001b[0m\u001b[1;33m:\u001b[0m\u001b[1;33m\u001b[0m\u001b[1;33m\u001b[0m\u001b[0m\n\u001b[0;32m      3\u001b[0m     \u001b[1;31m# index fetch\u001b[0m\u001b[1;33m\u001b[0m\u001b[1;33m\u001b[0m\u001b[1;33m\u001b[0m\u001b[0m\n\u001b[1;32m----> 4\u001b[1;33m     \u001b[0mindex\u001b[0m \u001b[1;33m=\u001b[0m \u001b[0mnp\u001b[0m\u001b[1;33m.\u001b[0m\u001b[0mwhere\u001b[0m\u001b[1;33m(\u001b[0m\u001b[0mpivot_df\u001b[0m\u001b[1;33m.\u001b[0m\u001b[0mindex\u001b[0m\u001b[1;33m==\u001b[0m\u001b[0mbook_name\u001b[0m\u001b[1;33m)\u001b[0m\u001b[1;33m[\u001b[0m\u001b[1;36m0\u001b[0m\u001b[1;33m]\u001b[0m\u001b[1;33m[\u001b[0m\u001b[1;36m0\u001b[0m\u001b[1;33m]\u001b[0m\u001b[1;33m\u001b[0m\u001b[1;33m\u001b[0m\u001b[0m\n\u001b[0m\u001b[0;32m      5\u001b[0m     \u001b[0msimilar_items\u001b[0m \u001b[1;33m=\u001b[0m \u001b[0msorted\u001b[0m\u001b[1;33m(\u001b[0m\u001b[0mlist\u001b[0m\u001b[1;33m(\u001b[0m\u001b[0menumerate\u001b[0m\u001b[1;33m(\u001b[0m\u001b[0msimilarity_score\u001b[0m\u001b[1;33m[\u001b[0m\u001b[0mindex\u001b[0m\u001b[1;33m]\u001b[0m\u001b[1;33m)\u001b[0m\u001b[1;33m)\u001b[0m\u001b[1;33m,\u001b[0m\u001b[0mkey\u001b[0m\u001b[1;33m=\u001b[0m\u001b[1;32mlambda\u001b[0m \u001b[0mx\u001b[0m\u001b[1;33m:\u001b[0m\u001b[0mx\u001b[0m\u001b[1;33m[\u001b[0m\u001b[1;36m1\u001b[0m\u001b[1;33m]\u001b[0m\u001b[1;33m,\u001b[0m\u001b[0mreverse\u001b[0m\u001b[1;33m=\u001b[0m\u001b[1;32mTrue\u001b[0m\u001b[1;33m)\u001b[0m\u001b[1;33m[\u001b[0m\u001b[1;36m1\u001b[0m\u001b[1;33m:\u001b[0m\u001b[1;36m6\u001b[0m\u001b[1;33m]\u001b[0m\u001b[1;33m\u001b[0m\u001b[1;33m\u001b[0m\u001b[0m\n\u001b[0;32m      6\u001b[0m \u001b[1;33m\u001b[0m\u001b[0m\n",
      "\u001b[1;31mIndexError\u001b[0m: index 0 is out of bounds for axis 0 with size 0"
     ]
    }
   ],
   "source": [
    "recommend('Grave Undertaking')"
   ]
  },
  {
   "cell_type": "code",
   "execution_count": 196,
   "id": "c23d4961",
   "metadata": {},
   "outputs": [
    {
     "data": {
      "text/plain": [
       "[['Winter Moon',\n",
       "  'Dean R. Koontz',\n",
       "  'http://images.amazon.com/images/P/0553582933.01.MZZZZZZZ.jpg'],\n",
       " ['Dark Rivers of the Heart',\n",
       "  'Dean R. Koontz',\n",
       "  'http://images.amazon.com/images/P/034539657X.01.MZZZZZZZ.jpg'],\n",
       " ['Shadowfires',\n",
       "  'Dean R. Koontz',\n",
       "  'http://images.amazon.com/images/P/0425136981.01.MZZZZZZZ.jpg'],\n",
       " ['While My Pretty One Sleeps',\n",
       "  'Mary Higgins Clark',\n",
       "  'http://images.amazon.com/images/P/0671673688.01.MZZZZZZZ.jpg'],\n",
       " ['Before I Say Good-Bye',\n",
       "  'Mary Higgins Clark',\n",
       "  'http://images.amazon.com/images/P/0671004573.01.MZZZZZZZ.jpg']]"
      ]
     },
     "execution_count": 196,
     "metadata": {},
     "output_type": "execute_result"
    }
   ],
   "source": [
    "recommend('Midnight')"
   ]
  },
  {
   "cell_type": "code",
   "execution_count": null,
   "id": "70997579",
   "metadata": {},
   "outputs": [],
   "source": []
  }
 ],
 "metadata": {
  "kernelspec": {
   "display_name": "Python 3",
   "language": "python",
   "name": "python3"
  },
  "language_info": {
   "codemirror_mode": {
    "name": "ipython",
    "version": 3
   },
   "file_extension": ".py",
   "mimetype": "text/x-python",
   "name": "python",
   "nbconvert_exporter": "python",
   "pygments_lexer": "ipython3",
   "version": "3.8.8"
  }
 },
 "nbformat": 4,
 "nbformat_minor": 5
}
